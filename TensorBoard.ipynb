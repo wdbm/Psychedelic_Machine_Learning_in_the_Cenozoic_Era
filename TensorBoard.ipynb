{
 "cells": [
  {
   "cell_type": "markdown",
   "metadata": {},
   "source": [
    "# TensorBoard, basic visualization of training and the minds of models"
   ]
  },
  {
   "cell_type": "markdown",
   "metadata": {},
   "source": [
    "![](https://raw.githubusercontent.com/wdbm/Psychedelic_Machine_Learning_in_the_Cenozoic_Era/master/media/Stephen_Brown_latent-light-chopping-board-auld-scottie-mccoo-artwork-designed-glass-chopping-board-26313182099_1024x1024_at_2x_trimmed.png)"
   ]
  },
  {
   "cell_type": "markdown",
   "metadata": {},
   "source": [
    "Tensors can be logged and viewed in a browser-based learning visualization toolkit called TensorBoard. Scalar tensors are shown as graphs, multidimensional tensors are shown as histograms and images are simply displayed. The computational graph is also displayed. There are tools for visualizations of high dimensional data in lower dimensions.\n",
    "\n",
    "TensorBoard generates visualizations from generated summary data saved at a log directory by a TensorFlow summary writer. A summary is a special TensorFlow operation that takes in a tensor from a graph and outputs protocol buffers that can be written to a drive. Specifically, in a TensorFlow run, summary operations are evaluated, saved at the log directory using the summary writer, and then read continuously by TensorBoard, which visualizes the information in a browser continuously. The summary writer saves to an append-only record dump that has \"tfevents\" in filename.\n",
    "\n",
    "Current supported summary operations are as follows:\n",
    "\n",
    "- `tf.summary.scalar`\n",
    "- `tf.summary.histogram`\n",
    "- `tf.summary.image`\n",
    "- `tf.summary.audio`\n",
    "- `tf.summary.text`\n",
    "\n",
    "Upcoming is `tf.summary.tensor`, which is a summary that can write out any type of value because everything in TensorFlow is a tensor.\n",
    "\n",
    "## scalar dashboard\n",
    "\n",
    "The scalar dashboard visualizes scalar statistics that vary over time, such as a model's loss or learning rate.\n",
    "\n",
    "## histogram dashboard\n",
    "\n",
    "The histogram dashboard visualizes statistical distributions of tensors that vary over time. Each plot displays temporal slices of data, where each slice is a histogram of the tensor at a given step. Earlier times are towards the back while more recent times are towards the front.\n",
    "\n",
    "The the appearance of the histograms was designed by Shan Carter, who used to make interactive graphics in the New York Times and was inspired by the cover of the album [*How do you Feel?* by Joywave](https://soundcloud.com/joywave/sets/joywave-how-do-you-feel-ep).\n",
    "\n",
    "![](https://raw.githubusercontent.com/wdbm/Psychedelic_Machine_Learning_in_the_Cenozoic_Era/master/media/Joywave_How_Do_You_Feel.png)\n",
    "\n",
    "## distribution dashboard\n",
    "\n",
    "The distribution dashboard is another way to visualize histogram data. It displays high-level statistics on distributions. Each line on a plot represents a percentile in the distribution over the data. For example, the bottom line shows how the minimum value has changed over time and the middle line shows how the median has changed. In effect, the lines are drawn such that they produce colored regions having widths ${\\sigma}$, ${2\\sigma}$ and ${3\\sigma}$ respectively.\n",
    "\n",
    "## image dashboard\n",
    "\n",
    "Each row corresponds to a different tag and each column corresponds to a run, with always the latest image shown for each tag. Custom visualizations could be displayed on this dashboard (e.g. matplotlib plots).\n",
    "\n",
    "## audio dashboard\n",
    "\n",
    "Playable widgets can be embedded in this dashboard. Each row corresponds to a different tag and each column corresponds to a run, with always the latest image shown for each tag.\n",
    "\n",
    "## graph explorer\n",
    "\n",
    "The graph explorer can visualize a TensorBoard graph. For reasonable use of the visualizer, name scopes should be used to group the graph operations hierarchically -- TensorFlow graphs can easily have many thousands of nodes, which can be far too many to see easily all at once, or even to lay out using standard tools.\n",
    "\n",
    "- <https://www.tensorflow.org/get_started/graph_viz>\n",
    "\n",
    "## embedding visualizer\n",
    "\n",
    "The embedding visualizer takes high-dimensional data and projects it down to 3 or 2 dimensions. One interesting way of using this would be to take the input dataset and map it through the neural network to the final layer. That embedding is the learned representation of how the neural network is processing the information. So, the projection is visualizing the input data after it has been embedded in a high-dimensional space by the model.\n",
    "\n",
    "The embedding visualizer reads data from a model checkpoint file and can be configured with additional metadata. By default, it features the PCA and t-SNE methods and can color points by label.\n",
    "\n",
    "It is particularly well-suited to images and vocabularies.\n",
    "\n",
    "- <https://www.tensorflow.org/get_started/embedding_viz>\n",
    "- <https://www.youtube.com/watch?v=eBbEDRsCmv4&t=1067s>\n",
    "\n",
    "## name scoping and nodes\n",
    "\n",
    "Typical TensorFlow graphs can have many thousands of nodes -- far too many to see all easily at once without cortical implants, or even to lay out using standard tools. To simplify, variable names can be scoped and the visualization uses this information to define a hierarchy on the nodes of the graph. By default, only the top of the hierarchy is shown.\n",
    "\n",
    "TensorFlow graphs have two types of connections: data dependencies and control dependencies. Data dependencies show the flow of tensors between two operations and are displayed as solid arrows. Control dependencies are displayed as dotted lines.\n",
    "\n",
    "## usage\n",
    "\n",
    "Some steps in using TensorBoard are as follows:\n",
    "\n",
    "1. Set a path for logging.\n",
    "\n",
    "```Python\n",
    "TB_SUMMARY_DIR = \"/tmp/run\"\n",
    "```\n",
    "\n",
    "2. Set the tensors to log.\n",
    "\n",
    "```Python\n",
    "with tf.name_scope(\"input\"):\n",
    "    x = tf.placeholder(tf.float32)\n",
    "    y = tf.placeholder(tf.float32)\n",
    "tf.summary.histogram(\"input\", x)\n",
    "```\n",
    "\n",
    "3. Merge the summaries.\n",
    "\n",
    "```Python\n",
    "summary_operation = tf.summary.merge_all()\n",
    "```\n",
    "\n",
    "4. Create a summary writer and add the TensorFlow graph.\n",
    "\n",
    "```Python\n",
    "writer = tf.summary.FileWriter(TB_SUMMARY_DIR)\n",
    "writer.add_graph(sesh.graph)\n",
    "```\n",
    "\n",
    "5. During training, run the summary merge operating and add the summary to the summary writer (save to log).\n",
    "\n",
    "\n",
    "```Python\n",
    "_, summary = sesh.run([optimizer, summary], feed_dict = feed_dict)\n",
    "writer.add_summary(summary, step)\n",
    "```\n",
    "\n",
    "6. Clear existing logs, launch TensorBoard and run the training.\n",
    "\n",
    "```Bash\n",
    "rm -rf /tmp/run\n",
    "tensorboard --logdir=/tmp/run\n",
    "```"
   ]
  },
  {
   "cell_type": "code",
   "execution_count": 1,
   "metadata": {},
   "outputs": [
    {
     "name": "stdout",
     "output_type": "stream",
     "text": [
      "W: [-0.9999969], b: [ 0.99999082], loss: 5.699973826267524e-11\n"
     ]
    }
   ],
   "source": [
    "import subprocess\n",
    "import tensorflow as tf\n",
    "\n",
    "path_logs = \"/tmp/run\"\n",
    "subprocess.Popen([\"killall tensorboard\"],                                            shell = True)\n",
    "subprocess.Popen([\"rm -rf {path_logs}\".format(path_logs = path_logs)],               shell = True)\n",
    "subprocess.Popen([\"tensorboard --logdir={path_logs}\".format(path_logs = path_logs)], shell = True)\n",
    "subprocess.Popen([\"xdg-open http://127.0.1.1:6006\"],                                 shell = True)\n",
    "\n",
    "tf.reset_default_graph()\n",
    "\n",
    "with tf.name_scope(\"input\"):\n",
    "    x = tf.placeholder(tf.float32)\n",
    "    y = tf.placeholder(tf.float32)\n",
    "tf.summary.histogram(\"input\", x)\n",
    "\n",
    "with tf.name_scope(\"architecture\"):\n",
    "    W = tf.Variable([ .3], dtype = tf.float32)\n",
    "    b = tf.Variable([-.3], dtype = tf.float32)\n",
    "    linear_model = W * x + b\n",
    "tf.summary.histogram(\"W\", W)\n",
    "tf.summary.histogram(\"b\", b)\n",
    "tf.summary.histogram(\"linear_model\", linear_model)\n",
    "\n",
    "with tf.name_scope(\"loss\"):\n",
    "    loss = tf.reduce_sum(tf.square(linear_model - y))\n",
    "    optimizer = tf.train.GradientDescentOptimizer(learning_rate = 0.01)\n",
    "    train = optimizer.minimize(loss)\n",
    "tf.summary.scalar(\"loss\", loss)\n",
    "\n",
    "x_train = [1,  2,  3,  4]\n",
    "y_train = [0, -1, -2, -3]\n",
    "\n",
    "summary_operation = tf.summary.merge_all()\n",
    "writer = tf.summary.FileWriter(path_logs)\n",
    "\n",
    "with tf.Session() as sesh:\n",
    "\n",
    "    writer.add_graph(sesh.graph)\n",
    "    \n",
    "    sesh.run(tf.global_variables_initializer())\n",
    "\n",
    "    for i in range(1000):\n",
    "\n",
    "        _, summary = sesh.run(\n",
    "            [train, summary_operation],\n",
    "            {\n",
    "                x: x_train,\n",
    "                y: y_train\n",
    "            }\n",
    "        )\n",
    "\n",
    "        writer.add_summary(summary, i)\n",
    "\n",
    "    current_W, current_b, current_loss = sesh.run(\n",
    "        [W, b, loss],\n",
    "        {\n",
    "            x: x_train,\n",
    "            y: y_train\n",
    "        }\n",
    "    )\n",
    "    print(\"W: {W}, b: {b}, loss: {loss}\".format(W = current_W, b = current_b, loss = current_loss))\n",
    "\n",
    "subprocess.Popen([\"killall tensorboard\"], shell = True);"
   ]
  },
  {
   "cell_type": "markdown",
   "metadata": {},
   "source": [
    "## TensorBoard example graphs"
   ]
  },
  {
   "cell_type": "markdown",
   "metadata": {},
   "source": [
    "![](https://raw.githubusercontent.com/wdbm/Psychedelic_Machine_Learning_in_the_Cenozoic_Era/master/media/TensorBoard_1.png)"
   ]
  },
  {
   "cell_type": "markdown",
   "metadata": {},
   "source": [
    "## TensorBoard example histograms"
   ]
  },
  {
   "cell_type": "markdown",
   "metadata": {},
   "source": [
    "Here, the linear model histogram can be seen approaching the defined target values (-0, -1, -2, -3).\n",
    "\n",
    "![](https://raw.githubusercontent.com/wdbm/Psychedelic_Machine_Learning_in_the_Cenozoic_Era/master/media/TensorBoard_2.png)"
   ]
  },
  {
   "cell_type": "markdown",
   "metadata": {},
   "source": [
    "## embedding visualizer"
   ]
  },
  {
   "cell_type": "markdown",
   "metadata": {},
   "source": [
    "To visualize embeddings, there are three main steps to take:\n",
    "\n",
    "- Create a 2D tensor to store the embeddings.\n",
    "\n",
    "```Python\n",
    "embedding_variable = tf.Variable(...)\n",
    "```\n",
    "\n",
    "- Save model variables to a checkpoint periodically.\n",
    "\n",
    "```Python\n",
    "saver = tf.train.Saver()\n",
    "saver.save(sesh, os.path.join(LOG_DIR, \"model.ckpt\"), step)\n",
    "```\n",
    "\n",
    "- Optionally, associate metadata with the embedding. This could be labels or images associated with the embedding.\n",
    "\n",
    "```Python\n",
    "from tensorflow.contrib.tensorboard.plugins import projector\n",
    "\n",
    "# Create randomly initialized embedding weights which will be trained.\n",
    "\n",
    "N = 10000 # number of items (vocabulary size)\n",
    "D = 200   # dimensionality of the embedding\n",
    "embedding_variable = tf.Variable(\n",
    "    tf.random_normal([N, D]),\n",
    "    name = \"word_embedding\"\n",
    ")\n",
    "\n",
    "configuration = projector.ProjectorConfig()\n",
    "\n",
    "# (Multiple embeddings could be added.)\n",
    "embedding = configuration.embeddings.add()\n",
    "embedding.tensor_name = embedding_variable.name\n",
    "# Link this tensor to its metadata file (e.g. labels).\n",
    "embedding.metadata_path = os.path.join(LOG_DIR, \"metadata.tsv\")\n",
    "\n",
    "# Use the samecheckpoint LOG_DIR.\n",
    "summary_writer = tf.summary.FileWriter(LOG_DIR)\n",
    "\n",
    "# Save a file projector_config.pbtxt at the directory LOG_DIR for TensorBoard to read when launched.\n",
    "projector.visualize_embeddings(summary_writer, configuration)\n",
    "```\n",
    "\n",
    "- <https://www.tensorflow.org/get_started/embedding_viz>"
   ]
  },
  {
   "cell_type": "markdown",
   "metadata": {},
   "source": [
    "## embedding visualizer example"
   ]
  },
  {
   "cell_type": "markdown",
   "metadata": {},
   "source": [
    "This example involves projection of 100 data points to 10 dimension space."
   ]
  },
  {
   "cell_type": "code",
   "execution_count": 2,
   "metadata": {
    "collapsed": true
   },
   "outputs": [],
   "source": [
    "import tensorflow as tf\n",
    "from tensorflow.contrib.tensorboard.plugins import projector\n",
    "\n",
    "# Create a dummy embedding matrix filled with pseudorandom numbers.\n",
    "embedding_variable = tf.Variable(tf.truncated_normal([100, 10]), name = \"embedding\")\n",
    "\n",
    "# Create a list of 100 labels for the data points and save them to a metadata file.\n",
    "labels = [str(i) for i in range(1, 101)]\n",
    "with open(\"labels.csv\", mode = \"wt\", encoding = \"utf-8\") as file_metadata:\n",
    "    file_metadata.write(\"\\n\".join(labels))\n",
    "\n",
    "with tf.Session() as sesh:\n",
    "\n",
    "    # Create a summary writer and specify the graph.\n",
    "    writer = tf.summary.FileWriter(\"./graphs/embedding_test\", sesh.graph)\n",
    "\n",
    "    # Initialize the embedding variable.\n",
    "    sesh.run(embedding_variable.initializer)\n",
    "\n",
    "    # Create a configuration for the projector.\n",
    "    configuration = projector.ProjectorConfig()\n",
    "\n",
    "    # Add the embedding visualizer.\n",
    "    embedding = configuration.embeddings.add()\n",
    "\n",
    "    # Set the name of the embedding to the variable name.\n",
    "    embedding.tensor_name = embedding_variable.name\n",
    "\n",
    "    # Set the path of the metadata in order to label data points.\n",
    "    embedding.metadata_path = \"./labels.csv\"\n",
    "\n",
    "    # Add the summary writer and the configuration to the projector.\n",
    "    projector.visualize_embeddings(writer, configuration)\n",
    "\n",
    "    # Save the model.\n",
    "    saver_embed = tf.train.Saver([embedding_variable])\n",
    "    saver_embed.save(sesh, \"./graphs/embedding_test/embedding_test.ckpt\", 1)\n",
    "\n",
    "writer.close()"
   ]
  },
  {
   "cell_type": "markdown",
   "metadata": {},
   "source": [
    "Launch TensorFlow:\n",
    "\n",
    "```Bash\n",
    "tensorboard --logdir=graphs/embedding_test\n",
    "```"
   ]
  },
  {
   "cell_type": "markdown",
   "metadata": {},
   "source": [
    "![](https://raw.githubusercontent.com/wdbm/Psychedelic_Machine_Learning_in_the_Cenozoic_Era/master/media/TensorBoard_3.png)\n",
    "\n",
    "The data points can be changed to display the labels instead of circles or a pointer can be hovered over a circle to display the label of the corresponding data point."
   ]
  }
 ],
 "metadata": {
  "kernelspec": {
   "display_name": "Python 3",
   "language": "python",
   "name": "python3"
  },
  "language_info": {
   "codemirror_mode": {
    "name": "ipython",
    "version": 3
   },
   "file_extension": ".py",
   "mimetype": "text/x-python",
   "name": "python",
   "nbconvert_exporter": "python",
   "pygments_lexer": "ipython3",
   "version": "3.5.2"
  }
 },
 "nbformat": 4,
 "nbformat_minor": 2
}
