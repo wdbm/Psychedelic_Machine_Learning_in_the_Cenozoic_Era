{
 "cells": [
  {
   "cell_type": "markdown",
   "metadata": {},
   "source": [
    "# Keras callbacks"
   ]
  },
  {
   "cell_type": "code",
   "execution_count": 1,
   "metadata": {},
   "outputs": [
    {
     "data": {
      "application/javascript": [
       "IPython.notebook.set_autosave_interval(120000)"
      ]
     },
     "metadata": {},
     "output_type": "display_data"
    },
    {
     "name": "stdout",
     "output_type": "stream",
     "text": [
      "Autosaving every 120 seconds\n"
     ]
    },
    {
     "name": "stderr",
     "output_type": "stream",
     "text": [
      "Using TensorFlow backend.\n"
     ]
    }
   ],
   "source": [
    "%autosave 120\n",
    "import numpy as np\n",
    "np.random.seed(1337)\n",
    "import datetime\n",
    "import graphviz\n",
    "from   IPython.display import SVG\n",
    "from   keras.datasets import mnist\n",
    "import keras\n",
    "from   keras import activations\n",
    "from   keras import backend as K\n",
    "from   keras.layers import (\n",
    "           concatenate,\n",
    "           Concatenate,\n",
    "           Conv1D,\n",
    "           Conv2D,\n",
    "           Dense,\n",
    "           Dropout,\n",
    "           Embedding,\n",
    "           Flatten,\n",
    "           Input,\n",
    "           MaxPooling1D,\n",
    "           MaxPooling2D)\n",
    "from   keras.models import Model, Sequential, load_model\n",
    "from   keras_tqdm import TQDMNotebookCallback\n",
    "from   keras.utils import plot_model\n",
    "from   keras.utils.vis_utils import model_to_dot\n",
    "from   matplotlib import gridspec\n",
    "import matplotlib.pylab as plt\n",
    "from   matplotlib.ticker import NullFormatter, NullLocator, MultipleLocator\n",
    "import pandas as pd\n",
    "import random\n",
    "from   scipy import stats\n",
    "import seaborn as sns\n",
    "from   sklearn.datasets import load_iris\n",
    "import sklearn.ensemble\n",
    "import sklearn.tree\n",
    "from   sklearn.metrics import auc, roc_curve\n",
    "from   sklearn.model_selection import train_test_split\n",
    "from   sklearn.preprocessing import MinMaxScaler\n",
    "import sqlite3\n",
    "import talos as ta\n",
    "from   tqdm import tqdm_notebook\n",
    "import uuid\n",
    "from   vis.utils import utils\n",
    "from   vis.visualization import visualize_activation\n",
    "from   vis.visualization import visualize_saliency\n",
    "import warnings\n",
    "\n",
    "pd.set_option(\"display.max_columns\", 500)\n",
    "pd.set_option(\"display.max_rows\",    500)\n",
    "sns.set_palette('husl')\n",
    "sns.set(style='ticks')\n",
    "warnings.filterwarnings(\"ignore\")"
   ]
  },
  {
   "cell_type": "code",
   "execution_count": 2,
   "metadata": {},
   "outputs": [],
   "source": [
    "%matplotlib inline\n",
    "plt.rcParams['figure.figsize'] = [8, 8]"
   ]
  },
  {
   "cell_type": "markdown",
   "metadata": {},
   "source": [
    "# callbacks"
   ]
  },
  {
   "cell_type": "code",
   "execution_count": 3,
   "metadata": {},
   "outputs": [],
   "source": [
    "class AccuracyHistory(keras.callbacks.Callback):\n",
    "    def on_train_begin(self, logs={}):\n",
    "        self.acc     = []\n",
    "        self.val_acc = []\n",
    "    def on_epoch_end(self, batch, logs={}):\n",
    "        self.acc.append(logs.get('acc'))\n",
    "        self.val_acc.append(logs.get('val_acc'))\n",
    "history = AccuracyHistory()\n",
    "\n",
    "class EpochProgressBar(keras.callbacks.Callback):\n",
    "    def on_train_begin(self, logs={}):\n",
    "        self.total_epochs  = self.params['epochs']\n",
    "        self.current_epoch = 0\n",
    "        self.pbar = tqdm_notebook(total=self.total_epochs, desc='epochs')\n",
    "    def on_epoch_end(self, batch, logs={}):\n",
    "        self.current_epoch += 1\n",
    "        #print(f'epoch {self.current_epoch} of epochs {self.total_epochs}')\n",
    "        self.pbar.update(1);\n",
    "epoch_progress_bar = EpochProgressBar()"
   ]
  },
  {
   "cell_type": "markdown",
   "metadata": {},
   "source": [
    "# handy functions"
   ]
  },
  {
   "cell_type": "code",
   "execution_count": 4,
   "metadata": {},
   "outputs": [],
   "source": [
    "def model_evaluation(model, x_test, y_test, verbose=False):\n",
    "    score = model.evaluate(x_test, y_test, verbose=verbose)\n",
    "    print('max. test accuracy observed:', max(model.history.history['val_acc']))\n",
    "    print('max. test accuracy history index:', model.history.history['val_acc'].index(max(model.history.history['val_acc'])))\n",
    "    plt.plot(model.history.history['acc'])\n",
    "    plt.plot(model.history.history['val_acc'])\n",
    "    plt.ylabel('accuracy')\n",
    "    plt.xlabel('epoch')\n",
    "    plt.legend(['train_accuracy', 'test_accuracy'], loc='best')\n",
    "    plt.show()"
   ]
  },
  {
   "cell_type": "code",
   "execution_count": 5,
   "metadata": {},
   "outputs": [],
   "source": [
    "iris = load_iris()\n",
    "df = pd.DataFrame(\n",
    "    data    = np.c_[iris['data'], iris['target']],\n",
    "    columns = iris['feature_names'] + ['target']\n",
    ")\n",
    "df = df.query('target != 2')\n",
    "df.head()\n",
    "\n",
    "df['labels'] = df['target'].astype('category').cat.codes\n",
    "x = df[['sepal length (cm)', 'sepal width (cm)', 'petal length (cm)', 'petal width (cm)']]\n",
    "y = df['target']\n",
    "# Convert class vectors to binary class matrices using 1 hot encoding.\n",
    "# 0 ---> 1, 0, 0\n",
    "# 1 ---> 0, 1, 0\n",
    "# 2 ---> 0, 0, 1\n",
    "num_classes = len(y.unique())\n",
    "y = keras.utils.to_categorical(y, len(y.unique()))\n",
    "\n",
    "x = np.asarray(x)\n",
    "y = np.asarray(y)\n",
    "\n",
    "x = x.reshape(len(x), 4, 1)\n",
    "\n",
    "x_train, x_test, y_train, y_test = train_test_split(x, y, test_size = 0.33, shuffle = True)"
   ]
  },
  {
   "cell_type": "code",
   "execution_count": 6,
   "metadata": {},
   "outputs": [
    {
     "name": "stdout",
     "output_type": "stream",
     "text": [
      "_________________________________________________________________\n",
      "Layer (type)                 Output Shape              Param #   \n",
      "=================================================================\n",
      "dense_1 (Dense)              (None, 4, 10)             20        \n",
      "_________________________________________________________________\n",
      "dropout_1 (Dropout)          (None, 4, 10)             0         \n",
      "_________________________________________________________________\n",
      "flatten_1 (Flatten)          (None, 40)                0         \n",
      "_________________________________________________________________\n",
      "dense_2 (Dense)              (None, 10)                410       \n",
      "_________________________________________________________________\n",
      "preds (Dense)                (None, 2)                 22        \n",
      "=================================================================\n",
      "Total params: 452\n",
      "Trainable params: 452\n",
      "Non-trainable params: 0\n",
      "_________________________________________________________________\n"
     ]
    }
   ],
   "source": [
    "model = Sequential()\n",
    "model.add(Dense(10, input_shape=(4, 1), activation = 'tanh'))\n",
    "model.add(Dropout(rate=0.5))\n",
    "model.add(Flatten())\n",
    "model.add(Dense(10, activation = 'tanh'))\n",
    "model.add(Dense(num_classes, activation='softmax', name='preds'))\n",
    "model.compile(loss=\"categorical_crossentropy\", optimizer=\"nadam\",\n",
    "              metrics = ['accuracy'])\n",
    "model.summary()"
   ]
  },
  {
   "cell_type": "code",
   "execution_count": 7,
   "metadata": {},
   "outputs": [
    {
     "data": {
      "application/vnd.jupyter.widget-view+json": {
       "model_id": "6ca278f662624e709e3c43ba51debe55",
       "version_major": 2,
       "version_minor": 0
      },
      "text/plain": [
       "HBox(children=(IntProgress(value=0, description='epochs', max=10), HTML(value='')))"
      ]
     },
     "metadata": {},
     "output_type": "display_data"
    },
    {
     "data": {
      "text/plain": [
       "<keras.callbacks.History at 0x7f65e8fe6ac8>"
      ]
     },
     "execution_count": 7,
     "metadata": {},
     "output_type": "execute_result"
    }
   ],
   "source": [
    "model.fit(\n",
    "    x_train,\n",
    "    y_train,\n",
    "    batch_size      = 1,\n",
    "    epochs          = 10,\n",
    "    verbose         = False,\n",
    "    validation_data = (x_test, y_test),\n",
    "    callbacks       = [history, epoch_progress_bar]\n",
    ")"
   ]
  },
  {
   "cell_type": "code",
   "execution_count": 8,
   "metadata": {},
   "outputs": [
    {
     "name": "stdout",
     "output_type": "stream",
     "text": [
      "max. test accuracy observed: 1.0\n",
      "max. test accuracy history index: 0\n"
     ]
    },
    {
     "data": {
      "image/png": "[encoded data removed]",
      "text/plain": [
       "<Figure size 576x576 with 1 Axes>"
      ]
     },
     "metadata": {},
     "output_type": "display_data"
    }
   ],
   "source": [
    "model_evaluation(model, x_test, y_test, verbose=False)"
   ]
  },
  {
   "cell_type": "code",
   "execution_count": null,
   "metadata": {},
   "outputs": [],
   "source": []
  }
 ],
 "metadata": {
  "kernelspec": {
   "display_name": "Python 3",
   "language": "python",
   "name": "python3"
  },
  "language_info": {
   "codemirror_mode": {
    "name": "ipython",
    "version": 3
   },
   "file_extension": ".py",
   "mimetype": "text/x-python",
   "name": "python",
   "nbconvert_exporter": "python",
   "pygments_lexer": "ipython3",
   "version": "3.6.8"
  }
 },
 "nbformat": 4,
 "nbformat_minor": 2
}
