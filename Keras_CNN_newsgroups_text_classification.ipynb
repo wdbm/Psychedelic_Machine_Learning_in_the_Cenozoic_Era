{
 "cells": [
  {
   "cell_type": "markdown",
   "metadata": {},
   "source": [
    "# 20 newsgroups classification"
   ]
  },
  {
   "cell_type": "markdown",
   "metadata": {},
   "source": [
    "Here we use the [20 newsgroups text dataset by Ken Lang](http://www.cs.cmu.edu/afs/cs.cmu.edu/project/theo-20/www/data/news20.html), which is a dataset of 20,000 messages from 20 different newsgroups. One thousand messages from each newsgroup were sampled randomly and classified by newsgroup.\n",
    "\n",
    "The standard GloVe (Global Vectors for Word Representation) word vector model of the Stanford NLP Group is used for this task.\n",
    "\n",
    "- reference: [*GloVe: Global Vectors for Word Representation*, Empirical Methods in Natural Language Processing (EMNLP), J. Pennington, R. Socher and C. D. Manning (2014)](http://www.aclweb.org/anthology/D14-1162)\n",
    "\n",
    "```Bash\n",
    "wget http://nlp.stanford.edu/data/glove.6B.zip\n",
    "unzip glove.6B.zip\n",
    "```\n",
    "\n",
    "We use this data to train 1D convolutional neural networks in Keras to classify the messages into one of two newsgroup classes.\n",
    "\n",
    "For the case of one of the models, a dropout probability of 0.1 was applied to convolutional layers in towers and the more standard approach of a dropout probability of 0.5 was applied to the more output dense layer [[ref](https://stats.stackexchange.com/a/317313)].\n",
    "\n",
    "## references/inspirations\n",
    "\n",
    "- [reference](https://www.kaggle.com/carlosaguayo/deep-learning-for-text-classification)\n",
    "- [reference](https://docs.google.com/presentation/d/1NQpJtkD8PhMmER4fw4WO0VwaD9I-s20gWnypwbkx5wk)\n",
    "- [reference](https://github.com/pavansolapure/opencodez-samples/blob/master/keras-text-classification/20_news_group_classification.py)\n",
    "- [reference](http://ai.intelligentonlinetools.com/ml/text-classification-20-newsgroups-dataset-using-convolutional-neural-network)"
   ]
  },
  {
   "cell_type": "markdown",
   "metadata": {},
   "source": [
    "# imports"
   ]
  },
  {
   "cell_type": "code",
   "execution_count": 1,
   "metadata": {},
   "outputs": [
    {
     "data": {
      "application/javascript": [
       "IPython.notebook.set_autosave_interval(120000)"
      ]
     },
     "metadata": {},
     "output_type": "display_data"
    },
    {
     "name": "stdout",
     "output_type": "stream",
     "text": [
      "Autosaving every 120 seconds\n"
     ]
    },
    {
     "name": "stderr",
     "output_type": "stream",
     "text": [
      "Using TensorFlow backend.\n"
     ]
    }
   ],
   "source": [
    "%autosave 120\n",
    "import numpy as np\n",
    "np.random.seed(1337)\n",
    "from IPython.display import SVG\n",
    "from keras.models import Model\n",
    "from keras.preprocessing.text import Tokenizer\n",
    "from keras.preprocessing.sequence import pad_sequences\n",
    "from keras.layers import (\n",
    "    Concatenate,\n",
    "    Conv1D,\n",
    "    Dense,\n",
    "    Dropout,\n",
    "    Embedding,\n",
    "    Flatten,\n",
    "    Input,\n",
    "    MaxPooling1D\n",
    ")\n",
    "from keras.utils.np_utils import to_categorical\n",
    "from keras.utils.vis_utils import model_to_dot\n",
    "import matplotlib.pyplot as plt\n",
    "import numpy as np\n",
    "import pandas as pd\n",
    "from pathlib import Path\n",
    "from sklearn.datasets import fetch_20newsgroups\n",
    "import warnings\n",
    "warnings.filterwarnings(\"ignore\")\n",
    "\n",
    "def summary_and_diagram(model):\n",
    "    model.summary()\n",
    "    return SVG(model_to_dot(model).create(prog='dot', format='svg'))\n",
    "    #SVG(model_to_dot(model, show_shapes=True, show_layer_names=True).create(prog='dot', format='svg'))\n",
    "\n",
    "def model_training_plot(history):\n",
    "    plt.plot(history.history['acc'], marker='.', label='train')\n",
    "    plt.plot(history.history['val_acc'], marker='.', label='validation')\n",
    "    plt.title('accuracy')\n",
    "    plt.grid(True)\n",
    "    plt.xlabel('epoch')\n",
    "    plt.ylabel('accuracy')\n",
    "    plt.legend(loc='best')\n",
    "    plt.show();"
   ]
  },
  {
   "cell_type": "code",
   "execution_count": 2,
   "metadata": {},
   "outputs": [],
   "source": [
    "%matplotlib inline\n",
    "plt.rcParams[\"figure.figsize\"] = [10, 10]"
   ]
  },
  {
   "cell_type": "markdown",
   "metadata": {},
   "source": [
    "# data"
   ]
  },
  {
   "cell_type": "code",
   "execution_count": 3,
   "metadata": {},
   "outputs": [
    {
     "name": "stdout",
     "output_type": "stream",
     "text": [
      "number of training samples: 1079\n",
      "\n",
      "example training sample of category soc.religion.christian:\n",
      "\n",
      "   WASHINGTON, April 19  -- A symposium on the Dead Sea \n",
      "Scrolls will be held at the Library of Congress on Wednesday,\n",
      "April 21, and Thursday, April 22.  The two-day program, cosponsored\n",
      "by the library and Baltimore Hebrew University, with additional\n",
      "support from the Project Judaica Foundation, will be held in the\n"
     ]
    }
   ],
   "source": [
    "categories = ['alt.atheism', 'soc.religion.christian'] \n",
    "\n",
    "newsgroups_train = fetch_20newsgroups(subset='train',\n",
    "                                      shuffle=True, \n",
    "                                      categories=categories)\n",
    "\n",
    "print(f'number of training samples: {len(newsgroups_train.data)}')\n",
    "\n",
    "example_sample_data     = \"\\n\".join(newsgroups_train.data[0].split(\"\\n\")[10:15])\n",
    "example_sample_category = categories[newsgroups_train.target[0]]\n",
    "print(f'\\nexample training sample of category {example_sample_category}:'\n",
    "      f'\\n\\n{example_sample_data}')"
   ]
  },
  {
   "cell_type": "markdown",
   "metadata": {},
   "source": [
    "# data preparation"
   ]
  },
  {
   "cell_type": "code",
   "execution_count": 4,
   "metadata": {},
   "outputs": [
    {
     "name": "stdout",
     "output_type": "stream",
     "text": [
      "20030 unique tokens found\n"
     ]
    }
   ],
   "source": [
    "labels              = newsgroups_train.target\n",
    "texts               = newsgroups_train.data\n",
    "max_sequence_length = 1000\n",
    "max_words           = 20000\n",
    "\n",
    "tokenizer = Tokenizer(num_words=max_words)\n",
    "tokenizer.fit_on_texts(texts)\n",
    "sequences = tokenizer.texts_to_sequences(texts)\n",
    "\n",
    "word_index = tokenizer.word_index\n",
    "#print(sequences[0][:10])\n",
    "print(f'{len(word_index)} unique tokens found')"
   ]
  },
  {
   "cell_type": "code",
   "execution_count": 5,
   "metadata": {},
   "outputs": [
    {
     "name": "stdout",
     "output_type": "stream",
     "text": [
      "data tensor shape:    (1079, 1000)\n",
      "targets tensor shape: (1079, 2)\n"
     ]
    }
   ],
   "source": [
    "labels = to_categorical(np.array(labels))\n",
    "data   = pad_sequences(sequences, maxlen=max_sequence_length)\n",
    "\n",
    "print(f'data tensor shape:    {data.shape}\\n'\n",
    "      f'targets tensor shape: {labels.shape}')"
   ]
  },
  {
   "cell_type": "code",
   "execution_count": 6,
   "metadata": {},
   "outputs": [
    {
     "name": "stdout",
     "output_type": "stream",
     "text": [
      "training samples shape:                       (756, 1000)\n",
      "validation samples shape:                     (756, 2)\n",
      "\n",
      "training samples positive/negative reviews:   [330. 426.]\n",
      "validation samples positive/negative reviews: [150. 173.]\n"
     ]
    }
   ],
   "source": [
    "indices                = np.arange(data.shape[0]); np.random.shuffle(indices) \n",
    "data                   = data[indices] \n",
    "labels                 = labels[indices]\n",
    "cross_validation_split = 0.3\n",
    "nb_validation_samples  = int(cross_validation_split * data.shape[0])\n",
    "\n",
    "x_train = data[:-nb_validation_samples] \n",
    "y_train = labels[:-nb_validation_samples] \n",
    "x_val = data[-nb_validation_samples:] \n",
    "y_val = labels[-nb_validation_samples:] \n",
    "\n",
    "print(f'training samples shape:                       {x_train.shape}\\n'\n",
    "      f'validation samples shape:                     {y_train.shape}\\n\\n'\n",
    "      f'training samples positive/negative reviews:   {y_train.sum(axis=0)}\\n'\n",
    "      f'validation samples positive/negative reviews: {y_val.sum(axis=0)}')"
   ]
  },
  {
   "cell_type": "code",
   "execution_count": 7,
   "metadata": {},
   "outputs": [
    {
     "name": "stdout",
     "output_type": "stream",
     "text": [
      "word vectors: 400000\n"
     ]
    }
   ],
   "source": [
    "embeddings_index = {}\n",
    "with open('glove.6B.100d.txt') as f:\n",
    "    for line in f:\n",
    "        values                 = line.split(' ')\n",
    "        word                   = values[0]\n",
    "        embeddings_index[word] = np.asarray(values[1:], dtype='float32')\n",
    "print(f'word vectors: {len(embeddings_index)}')"
   ]
  },
  {
   "cell_type": "code",
   "execution_count": 8,
   "metadata": {},
   "outputs": [
    {
     "name": "stdout",
     "output_type": "stream",
     "text": [
      "embedding matrix shape: (20031, 100)\n"
     ]
    }
   ],
   "source": [
    "word_vector_dimensionality = 100\n",
    "\n",
    "embedding_matrix = np.random.random(\n",
    "    (len(word_index) + 1, word_vector_dimensionality))\n",
    "\n",
    "for word, i in word_index.items():\n",
    "  embedding_vector = embeddings_index.get(word)\n",
    "  if embedding_vector is not None:\n",
    "    # Words not in the embedding index are all zero elements.\n",
    "    embedding_matrix[i] = embedding_vector\n",
    "\n",
    "print(f'embedding matrix shape: {embedding_matrix.shape}')"
   ]
  },
  {
   "cell_type": "markdown",
   "metadata": {},
   "source": [
    "# model: convolutional neural network"
   ]
  },
  {
   "cell_type": "code",
   "execution_count": 9,
   "metadata": {},
   "outputs": [
    {
     "name": "stdout",
     "output_type": "stream",
     "text": [
      "_________________________________________________________________\n",
      "Layer (type)                 Output Shape              Param #   \n",
      "=================================================================\n",
      "input_1 (InputLayer)         (None, 1000)              0         \n",
      "_________________________________________________________________\n",
      "embedding_1 (Embedding)      (None, 1000, 100)         2003100   \n",
      "_________________________________________________________________\n",
      "conv1d_1 (Conv1D)            (None, 996, 128)          64128     \n",
      "_________________________________________________________________\n",
      "max_pooling1d_1 (MaxPooling1 (None, 199, 128)          0         \n",
      "_________________________________________________________________\n",
      "conv1d_2 (Conv1D)            (None, 195, 128)          82048     \n",
      "_________________________________________________________________\n",
      "max_pooling1d_2 (MaxPooling1 (None, 39, 128)           0         \n",
      "_________________________________________________________________\n",
      "conv1d_3 (Conv1D)            (None, 35, 128)           82048     \n",
      "_________________________________________________________________\n",
      "max_pooling1d_3 (MaxPooling1 (None, 1, 128)            0         \n",
      "_________________________________________________________________\n",
      "flatten_1 (Flatten)          (None, 128)               0         \n",
      "_________________________________________________________________\n",
      "dense_1 (Dense)              (None, 300)               38700     \n",
      "_________________________________________________________________\n",
      "dropout_1 (Dropout)          (None, 300)               0         \n",
      "_________________________________________________________________\n",
      "preds (Dense)                (None, 2)                 602       \n",
      "=================================================================\n",
      "Total params: 2,270,626\n",
      "Trainable params: 267,526\n",
      "Non-trainable params: 2,003,100\n",
      "_________________________________________________________________\n"
     ]
    },
    {
     "data": {
      "image/svg+xml": [
       "<svg height=\"848pt\" viewBox=\"0.00 0.00 215.00 848.00\" width=\"215pt\" xmlns=\"http://www.w3.org/2000/svg\" xmlns:xlink=\"http://www.w3.org/1999/xlink\">\n",
       "<g class=\"graph\" id=\"graph0\" transform=\"scale(1 1) rotate(0) translate(4 844)\">\n",
       "<title>G</title>\n",
       "<polygon fill=\"#ffffff\" points=\"-4,4 -4,-844 211,-844 211,4 -4,4\" stroke=\"transparent\"/>\n",
       "<!-- 140669490473896 -->\n",
       "<g class=\"node\" id=\"node1\">\n",
       "<title>140669490473896</title>\n",
       "<polygon fill=\"none\" points=\"41,-803.5 41,-839.5 166,-839.5 166,-803.5 41,-803.5\" stroke=\"#000000\"/>\n",
       "<text fill=\"#000000\" font-family=\"Times,serif\" font-size=\"14.00\" text-anchor=\"middle\" x=\"103.5\" y=\"-817.8\">input_1: InputLayer</text>\n",
       "</g>\n",
       "<!-- 140669490473952 -->\n",
       "<g class=\"node\" id=\"node2\">\n",
       "<title>140669490473952</title>\n",
       "<polygon fill=\"none\" points=\"23,-730.5 23,-766.5 184,-766.5 184,-730.5 23,-730.5\" stroke=\"#000000\"/>\n",
       "<text fill=\"#000000\" font-family=\"Times,serif\" font-size=\"14.00\" text-anchor=\"middle\" x=\"103.5\" y=\"-744.8\">embedding_1: Embedding</text>\n",
       "</g>\n",
       "<!-- 140669490473896&#45;&gt;140669490473952 -->\n",
       "<g class=\"edge\" id=\"edge1\">\n",
       "<title>140669490473896-&gt;140669490473952</title>\n",
       "<path d=\"M103.5,-803.4551C103.5,-795.3828 103.5,-785.6764 103.5,-776.6817\" fill=\"none\" stroke=\"#000000\"/>\n",
       "<polygon fill=\"#000000\" points=\"107.0001,-776.5903 103.5,-766.5904 100.0001,-776.5904 107.0001,-776.5903\" stroke=\"#000000\"/>\n",
       "</g>\n",
       "<!-- 140669490474848 -->\n",
       "<g class=\"node\" id=\"node3\">\n",
       "<title>140669490474848</title>\n",
       "<polygon fill=\"none\" points=\"42,-657.5 42,-693.5 165,-693.5 165,-657.5 42,-657.5\" stroke=\"#000000\"/>\n",
       "<text fill=\"#000000\" font-family=\"Times,serif\" font-size=\"14.00\" text-anchor=\"middle\" x=\"103.5\" y=\"-671.8\">conv1d_1: Conv1D</text>\n",
       "</g>\n",
       "<!-- 140669490473952&#45;&gt;140669490474848 -->\n",
       "<g class=\"edge\" id=\"edge2\">\n",
       "<title>140669490473952-&gt;140669490474848</title>\n",
       "<path d=\"M103.5,-730.4551C103.5,-722.3828 103.5,-712.6764 103.5,-703.6817\" fill=\"none\" stroke=\"#000000\"/>\n",
       "<polygon fill=\"#000000\" points=\"107.0001,-703.5903 103.5,-693.5904 100.0001,-703.5904 107.0001,-703.5903\" stroke=\"#000000\"/>\n",
       "</g>\n",
       "<!-- 140669490474960 -->\n",
       "<g class=\"node\" id=\"node4\">\n",
       "<title>140669490474960</title>\n",
       "<polygon fill=\"none\" points=\"0,-584.5 0,-620.5 207,-620.5 207,-584.5 0,-584.5\" stroke=\"#000000\"/>\n",
       "<text fill=\"#000000\" font-family=\"Times,serif\" font-size=\"14.00\" text-anchor=\"middle\" x=\"103.5\" y=\"-598.8\">max_pooling1d_1: MaxPooling1D</text>\n",
       "</g>\n",
       "<!-- 140669490474848&#45;&gt;140669490474960 -->\n",
       "<g class=\"edge\" id=\"edge3\">\n",
       "<title>140669490474848-&gt;140669490474960</title>\n",
       "<path d=\"M103.5,-657.4551C103.5,-649.3828 103.5,-639.6764 103.5,-630.6817\" fill=\"none\" stroke=\"#000000\"/>\n",
       "<polygon fill=\"#000000\" points=\"107.0001,-630.5903 103.5,-620.5904 100.0001,-630.5904 107.0001,-630.5903\" stroke=\"#000000\"/>\n",
       "</g>\n",
       "<!-- 140669490486632 -->\n",
       "<g class=\"node\" id=\"node5\">\n",
       "<title>140669490486632</title>\n",
       "<polygon fill=\"none\" points=\"42,-511.5 42,-547.5 165,-547.5 165,-511.5 42,-511.5\" stroke=\"#000000\"/>\n",
       "<text fill=\"#000000\" font-family=\"Times,serif\" font-size=\"14.00\" text-anchor=\"middle\" x=\"103.5\" y=\"-525.8\">conv1d_2: Conv1D</text>\n",
       "</g>\n",
       "<!-- 140669490474960&#45;&gt;140669490486632 -->\n",
       "<g class=\"edge\" id=\"edge4\">\n",
       "<title>140669490474960-&gt;140669490486632</title>\n",
       "<path d=\"M103.5,-584.4551C103.5,-576.3828 103.5,-566.6764 103.5,-557.6817\" fill=\"none\" stroke=\"#000000\"/>\n",
       "<polygon fill=\"#000000\" points=\"107.0001,-557.5903 103.5,-547.5904 100.0001,-557.5904 107.0001,-557.5903\" stroke=\"#000000\"/>\n",
       "</g>\n",
       "<!-- 140669490486856 -->\n",
       "<g class=\"node\" id=\"node6\">\n",
       "<title>140669490486856</title>\n",
       "<polygon fill=\"none\" points=\"0,-438.5 0,-474.5 207,-474.5 207,-438.5 0,-438.5\" stroke=\"#000000\"/>\n",
       "<text fill=\"#000000\" font-family=\"Times,serif\" font-size=\"14.00\" text-anchor=\"middle\" x=\"103.5\" y=\"-452.8\">max_pooling1d_2: MaxPooling1D</text>\n",
       "</g>\n",
       "<!-- 140669490486632&#45;&gt;140669490486856 -->\n",
       "<g class=\"edge\" id=\"edge5\">\n",
       "<title>140669490486632-&gt;140669490486856</title>\n",
       "<path d=\"M103.5,-511.4551C103.5,-503.3828 103.5,-493.6764 103.5,-484.6817\" fill=\"none\" stroke=\"#000000\"/>\n",
       "<polygon fill=\"#000000\" points=\"107.0001,-484.5903 103.5,-474.5904 100.0001,-484.5904 107.0001,-484.5903\" stroke=\"#000000\"/>\n",
       "</g>\n",
       "<!-- 140672339475816 -->\n",
       "<g class=\"node\" id=\"node7\">\n",
       "<title>140672339475816</title>\n",
       "<polygon fill=\"none\" points=\"42,-365.5 42,-401.5 165,-401.5 165,-365.5 42,-365.5\" stroke=\"#000000\"/>\n",
       "<text fill=\"#000000\" font-family=\"Times,serif\" font-size=\"14.00\" text-anchor=\"middle\" x=\"103.5\" y=\"-379.8\">conv1d_3: Conv1D</text>\n",
       "</g>\n",
       "<!-- 140669490486856&#45;&gt;140672339475816 -->\n",
       "<g class=\"edge\" id=\"edge6\">\n",
       "<title>140669490486856-&gt;140672339475816</title>\n",
       "<path d=\"M103.5,-438.4551C103.5,-430.3828 103.5,-420.6764 103.5,-411.6817\" fill=\"none\" stroke=\"#000000\"/>\n",
       "<polygon fill=\"#000000\" points=\"107.0001,-411.5903 103.5,-401.5904 100.0001,-411.5904 107.0001,-411.5903\" stroke=\"#000000\"/>\n",
       "</g>\n",
       "<!-- 140669440308672 -->\n",
       "<g class=\"node\" id=\"node8\">\n",
       "<title>140669440308672</title>\n",
       "<polygon fill=\"none\" points=\"0,-292.5 0,-328.5 207,-328.5 207,-292.5 0,-292.5\" stroke=\"#000000\"/>\n",
       "<text fill=\"#000000\" font-family=\"Times,serif\" font-size=\"14.00\" text-anchor=\"middle\" x=\"103.5\" y=\"-306.8\">max_pooling1d_3: MaxPooling1D</text>\n",
       "</g>\n",
       "<!-- 140672339475816&#45;&gt;140669440308672 -->\n",
       "<g class=\"edge\" id=\"edge7\">\n",
       "<title>140672339475816-&gt;140669440308672</title>\n",
       "<path d=\"M103.5,-365.4551C103.5,-357.3828 103.5,-347.6764 103.5,-338.6817\" fill=\"none\" stroke=\"#000000\"/>\n",
       "<polygon fill=\"#000000\" points=\"107.0001,-338.5903 103.5,-328.5904 100.0001,-338.5904 107.0001,-338.5903\" stroke=\"#000000\"/>\n",
       "</g>\n",
       "<!-- 140668844101080 -->\n",
       "<g class=\"node\" id=\"node9\">\n",
       "<title>140668844101080</title>\n",
       "<polygon fill=\"none\" points=\"48.5,-219.5 48.5,-255.5 158.5,-255.5 158.5,-219.5 48.5,-219.5\" stroke=\"#000000\"/>\n",
       "<text fill=\"#000000\" font-family=\"Times,serif\" font-size=\"14.00\" text-anchor=\"middle\" x=\"103.5\" y=\"-233.8\">flatten_1: Flatten</text>\n",
       "</g>\n",
       "<!-- 140669440308672&#45;&gt;140668844101080 -->\n",
       "<g class=\"edge\" id=\"edge8\">\n",
       "<title>140669440308672-&gt;140668844101080</title>\n",
       "<path d=\"M103.5,-292.4551C103.5,-284.3828 103.5,-274.6764 103.5,-265.6817\" fill=\"none\" stroke=\"#000000\"/>\n",
       "<polygon fill=\"#000000\" points=\"107.0001,-265.5903 103.5,-255.5904 100.0001,-265.5904 107.0001,-265.5903\" stroke=\"#000000\"/>\n",
       "</g>\n",
       "<!-- 140668844101304 -->\n",
       "<g class=\"node\" id=\"node10\">\n",
       "<title>140668844101304</title>\n",
       "<polygon fill=\"none\" points=\"52.5,-146.5 52.5,-182.5 154.5,-182.5 154.5,-146.5 52.5,-146.5\" stroke=\"#000000\"/>\n",
       "<text fill=\"#000000\" font-family=\"Times,serif\" font-size=\"14.00\" text-anchor=\"middle\" x=\"103.5\" y=\"-160.8\">dense_1: Dense</text>\n",
       "</g>\n",
       "<!-- 140668844101080&#45;&gt;140668844101304 -->\n",
       "<g class=\"edge\" id=\"edge9\">\n",
       "<title>140668844101080-&gt;140668844101304</title>\n",
       "<path d=\"M103.5,-219.4551C103.5,-211.3828 103.5,-201.6764 103.5,-192.6817\" fill=\"none\" stroke=\"#000000\"/>\n",
       "<polygon fill=\"#000000\" points=\"107.0001,-192.5903 103.5,-182.5904 100.0001,-192.5904 107.0001,-192.5903\" stroke=\"#000000\"/>\n",
       "</g>\n",
       "<!-- 140668844230080 -->\n",
       "<g class=\"node\" id=\"node11\">\n",
       "<title>140668844230080</title>\n",
       "<polygon fill=\"none\" points=\"41,-73.5 41,-109.5 166,-109.5 166,-73.5 41,-73.5\" stroke=\"#000000\"/>\n",
       "<text fill=\"#000000\" font-family=\"Times,serif\" font-size=\"14.00\" text-anchor=\"middle\" x=\"103.5\" y=\"-87.8\">dropout_1: Dropout</text>\n",
       "</g>\n",
       "<!-- 140668844101304&#45;&gt;140668844230080 -->\n",
       "<g class=\"edge\" id=\"edge10\">\n",
       "<title>140668844101304-&gt;140668844230080</title>\n",
       "<path d=\"M103.5,-146.4551C103.5,-138.3828 103.5,-128.6764 103.5,-119.6817\" fill=\"none\" stroke=\"#000000\"/>\n",
       "<polygon fill=\"#000000\" points=\"107.0001,-119.5903 103.5,-109.5904 100.0001,-119.5904 107.0001,-119.5903\" stroke=\"#000000\"/>\n",
       "</g>\n",
       "<!-- 140668843936176 -->\n",
       "<g class=\"node\" id=\"node12\">\n",
       "<title>140668843936176</title>\n",
       "<polygon fill=\"none\" points=\"60,-.5 60,-36.5 147,-36.5 147,-.5 60,-.5\" stroke=\"#000000\"/>\n",
       "<text fill=\"#000000\" font-family=\"Times,serif\" font-size=\"14.00\" text-anchor=\"middle\" x=\"103.5\" y=\"-14.8\">preds: Dense</text>\n",
       "</g>\n",
       "<!-- 140668844230080&#45;&gt;140668843936176 -->\n",
       "<g class=\"edge\" id=\"edge11\">\n",
       "<title>140668844230080-&gt;140668843936176</title>\n",
       "<path d=\"M103.5,-73.4551C103.5,-65.3828 103.5,-55.6764 103.5,-46.6817\" fill=\"none\" stroke=\"#000000\"/>\n",
       "<polygon fill=\"#000000\" points=\"107.0001,-46.5903 103.5,-36.5904 100.0001,-46.5904 107.0001,-46.5903\" stroke=\"#000000\"/>\n",
       "</g>\n",
       "</g>\n",
       "</svg>"
      ],
      "text/plain": [
       "<IPython.core.display.SVG object>"
      ]
     },
     "execution_count": 9,
     "metadata": {},
     "output_type": "execute_result"
    }
   ],
   "source": [
    "embedding_layer = Embedding(len(word_index) + 1,\n",
    "                            word_vector_dimensionality,\n",
    "                            weights=[embedding_matrix],\n",
    "                            input_length=max_sequence_length,\n",
    "                            trainable=False)\n",
    "\n",
    "inputs = Input(shape=(max_sequence_length,), dtype='int32') # inputs\n",
    "x      = embedding_layer(inputs) # embedded sequences\n",
    "x      = Conv1D(128, 5, activation='relu')(x)\n",
    "x      = MaxPooling1D(5)(x) \n",
    "x      = Conv1D(128, 5, activation='relu')(x) \n",
    "x      = MaxPooling1D(5)(x) \n",
    "x      = Conv1D(128, 5, activation='relu')(x) \n",
    "x      = MaxPooling1D(35)(x) # global max pooling\n",
    "x      = Flatten()(x)\n",
    "x      = Dense(300, activation='relu')(x)\n",
    "x      = Dropout(rate=0.5)(x)\n",
    "preds  = Dense(2, activation='softmax', name='preds')(x)\n",
    "model  = Model(input=inputs, output=preds)\n",
    "model.compile(loss='categorical_crossentropy',\n",
    "              optimizer='nadam',\n",
    "              metrics=['acc'])\n",
    "summary_and_diagram(model)"
   ]
  },
  {
   "cell_type": "code",
   "execution_count": 10,
   "metadata": {},
   "outputs": [
    {
     "name": "stdout",
     "output_type": "stream",
     "text": [
      "CPU times: user 18min 12s, sys: 53.3 s, total: 19min 5s\n",
      "Wall time: 2min 41s\n"
     ]
    }
   ],
   "source": [
    "%%time\n",
    "history = model.fit(x_train, y_train, validation_data=(x_val, y_val),\n",
    "                    epochs=60, batch_size=32, verbose=False)"
   ]
  },
  {
   "cell_type": "code",
   "execution_count": 11,
   "metadata": {},
   "outputs": [
    {
     "data": {
      "image/png": "[encoded data removed]",
      "text/plain": [
       "<Figure size 720x720 with 1 Axes>"
      ]
     },
     "metadata": {},
     "output_type": "display_data"
    },
    {
     "name": "stdout",
     "output_type": "stream",
     "text": [
      "max. validation accuracy observed: 0.9535603715170279\n",
      "max. validation accuracy history index: 4\n"
     ]
    }
   ],
   "source": [
    "model_training_plot(history)\n",
    "print(f'max. validation accuracy observed: {max(model.history.history[\"val_acc\"])}')\n",
    "print(f'max. validation accuracy history index: {model.history.history[\"val_acc\"].index(max(model.history.history[\"val_acc\"]))}')"
   ]
  },
  {
   "cell_type": "markdown",
   "metadata": {},
   "source": [
    "# model: convolutional neural network with multiple towers of varying kernel sizes"
   ]
  },
  {
   "cell_type": "code",
   "execution_count": 12,
   "metadata": {
    "scrolled": false
   },
   "outputs": [
    {
     "name": "stdout",
     "output_type": "stream",
     "text": [
      "__________________________________________________________________________________________________\n",
      "Layer (type)                    Output Shape         Param #     Connected to                     \n",
      "==================================================================================================\n",
      "input_2 (InputLayer)            (None, 1000)         0                                            \n",
      "__________________________________________________________________________________________________\n",
      "embedding_2 (Embedding)         (None, 1000, 100)    2003100     input_2[0][0]                    \n",
      "__________________________________________________________________________________________________\n",
      "conv1d_4 (Conv1D)               (None, 998, 128)     38528       embedding_2[0][0]                \n",
      "__________________________________________________________________________________________________\n",
      "conv1d_5 (Conv1D)               (None, 997, 128)     51328       embedding_2[0][0]                \n",
      "__________________________________________________________________________________________________\n",
      "conv1d_6 (Conv1D)               (None, 996, 128)     64128       embedding_2[0][0]                \n",
      "__________________________________________________________________________________________________\n",
      "dropout_2 (Dropout)             (None, 998, 128)     0           conv1d_4[0][0]                   \n",
      "__________________________________________________________________________________________________\n",
      "dropout_3 (Dropout)             (None, 997, 128)     0           conv1d_5[0][0]                   \n",
      "__________________________________________________________________________________________________\n",
      "dropout_4 (Dropout)             (None, 996, 128)     0           conv1d_6[0][0]                   \n",
      "__________________________________________________________________________________________________\n",
      "max_pooling1d_4 (MaxPooling1D)  (None, 199, 128)     0           dropout_2[0][0]                  \n",
      "__________________________________________________________________________________________________\n",
      "max_pooling1d_5 (MaxPooling1D)  (None, 199, 128)     0           dropout_3[0][0]                  \n",
      "__________________________________________________________________________________________________\n",
      "max_pooling1d_6 (MaxPooling1D)  (None, 199, 128)     0           dropout_4[0][0]                  \n",
      "__________________________________________________________________________________________________\n",
      "concatenate_1 (Concatenate)     (None, 597, 128)     0           max_pooling1d_4[0][0]            \n",
      "                                                                 max_pooling1d_5[0][0]            \n",
      "                                                                 max_pooling1d_6[0][0]            \n",
      "__________________________________________________________________________________________________\n",
      "conv1d_7 (Conv1D)               (None, 593, 128)     82048       concatenate_1[0][0]              \n",
      "__________________________________________________________________________________________________\n",
      "max_pooling1d_7 (MaxPooling1D)  (None, 118, 128)     0           conv1d_7[0][0]                   \n",
      "__________________________________________________________________________________________________\n",
      "conv1d_8 (Conv1D)               (None, 114, 128)     82048       max_pooling1d_7[0][0]            \n",
      "__________________________________________________________________________________________________\n",
      "max_pooling1d_8 (MaxPooling1D)  (None, 3, 128)       0           conv1d_8[0][0]                   \n",
      "__________________________________________________________________________________________________\n",
      "flatten_2 (Flatten)             (None, 384)          0           max_pooling1d_8[0][0]            \n",
      "__________________________________________________________________________________________________\n",
      "dense_2 (Dense)                 (None, 128)          49280       flatten_2[0][0]                  \n",
      "__________________________________________________________________________________________________\n",
      "dropout_5 (Dropout)             (None, 128)          0           dense_2[0][0]                    \n",
      "__________________________________________________________________________________________________\n",
      "preds (Dense)                   (None, 2)            258         dropout_5[0][0]                  \n",
      "==================================================================================================\n",
      "Total params: 2,370,718\n",
      "Trainable params: 367,618\n",
      "Non-trainable params: 2,003,100\n",
      "__________________________________________________________________________________________________\n"
     ]
    },
    {
     "data": {
      "image/svg+xml": [
       "<svg height=\"994pt\" viewBox=\"0.00 0.00 665.00 994.00\" width=\"665pt\" xmlns=\"http://www.w3.org/2000/svg\" xmlns:xlink=\"http://www.w3.org/1999/xlink\">\n",
       "<g class=\"graph\" id=\"graph0\" transform=\"scale(1 1) rotate(0) translate(4 990)\">\n",
       "<title>G</title>\n",
       "<polygon fill=\"#ffffff\" points=\"-4,4 -4,-990 661,-990 661,4 -4,4\" stroke=\"transparent\"/>\n",
       "<!-- 140668440353368 -->\n",
       "<g class=\"node\" id=\"node1\">\n",
       "<title>140668440353368</title>\n",
       "<polygon fill=\"none\" points=\"266,-949.5 266,-985.5 391,-985.5 391,-949.5 266,-949.5\" stroke=\"#000000\"/>\n",
       "<text fill=\"#000000\" font-family=\"Times,serif\" font-size=\"14.00\" text-anchor=\"middle\" x=\"328.5\" y=\"-963.8\">input_2: InputLayer</text>\n",
       "</g>\n",
       "<!-- 140668440353424 -->\n",
       "<g class=\"node\" id=\"node2\">\n",
       "<title>140668440353424</title>\n",
       "<polygon fill=\"none\" points=\"248,-876.5 248,-912.5 409,-912.5 409,-876.5 248,-876.5\" stroke=\"#000000\"/>\n",
       "<text fill=\"#000000\" font-family=\"Times,serif\" font-size=\"14.00\" text-anchor=\"middle\" x=\"328.5\" y=\"-890.8\">embedding_2: Embedding</text>\n",
       "</g>\n",
       "<!-- 140668440353368&#45;&gt;140668440353424 -->\n",
       "<g class=\"edge\" id=\"edge1\">\n",
       "<title>140668440353368-&gt;140668440353424</title>\n",
       "<path d=\"M328.5,-949.4551C328.5,-941.3828 328.5,-931.6764 328.5,-922.6817\" fill=\"none\" stroke=\"#000000\"/>\n",
       "<polygon fill=\"#000000\" points=\"332.0001,-922.5903 328.5,-912.5904 325.0001,-922.5904 332.0001,-922.5903\" stroke=\"#000000\"/>\n",
       "</g>\n",
       "<!-- 140668440353872 -->\n",
       "<g class=\"node\" id=\"node3\">\n",
       "<title>140668440353872</title>\n",
       "<polygon fill=\"none\" points=\"84,-803.5 84,-839.5 207,-839.5 207,-803.5 84,-803.5\" stroke=\"#000000\"/>\n",
       "<text fill=\"#000000\" font-family=\"Times,serif\" font-size=\"14.00\" text-anchor=\"middle\" x=\"145.5\" y=\"-817.8\">conv1d_4: Conv1D</text>\n",
       "</g>\n",
       "<!-- 140668440353424&#45;&gt;140668440353872 -->\n",
       "<g class=\"edge\" id=\"edge2\">\n",
       "<title>140668440353424-&gt;140668440353872</title>\n",
       "<path d=\"M283.264,-876.4551C258.1892,-866.4525 226.824,-853.9407 200.358,-843.3833\" fill=\"none\" stroke=\"#000000\"/>\n",
       "<polygon fill=\"#000000\" points=\"201.4349,-840.0447 190.8498,-839.5904 198.8413,-846.5465 201.4349,-840.0447\" stroke=\"#000000\"/>\n",
       "</g>\n",
       "<!-- 140668440359712 -->\n",
       "<g class=\"node\" id=\"node4\">\n",
       "<title>140668440359712</title>\n",
       "<polygon fill=\"none\" points=\"267,-803.5 267,-839.5 390,-839.5 390,-803.5 267,-803.5\" stroke=\"#000000\"/>\n",
       "<text fill=\"#000000\" font-family=\"Times,serif\" font-size=\"14.00\" text-anchor=\"middle\" x=\"328.5\" y=\"-817.8\">conv1d_5: Conv1D</text>\n",
       "</g>\n",
       "<!-- 140668440353424&#45;&gt;140668440359712 -->\n",
       "<g class=\"edge\" id=\"edge3\">\n",
       "<title>140668440353424-&gt;140668440359712</title>\n",
       "<path d=\"M328.5,-876.4551C328.5,-868.3828 328.5,-858.6764 328.5,-849.6817\" fill=\"none\" stroke=\"#000000\"/>\n",
       "<polygon fill=\"#000000\" points=\"332.0001,-849.5903 328.5,-839.5904 325.0001,-849.5904 332.0001,-849.5903\" stroke=\"#000000\"/>\n",
       "</g>\n",
       "<!-- 140668439981304 -->\n",
       "<g class=\"node\" id=\"node5\">\n",
       "<title>140668439981304</title>\n",
       "<polygon fill=\"none\" points=\"409,-803.5 409,-839.5 532,-839.5 532,-803.5 409,-803.5\" stroke=\"#000000\"/>\n",
       "<text fill=\"#000000\" font-family=\"Times,serif\" font-size=\"14.00\" text-anchor=\"middle\" x=\"470.5\" y=\"-817.8\">conv1d_6: Conv1D</text>\n",
       "</g>\n",
       "<!-- 140668440353424&#45;&gt;140668439981304 -->\n",
       "<g class=\"edge\" id=\"edge4\">\n",
       "<title>140668440353424-&gt;140668439981304</title>\n",
       "<path d=\"M363.6011,-876.4551C382.5461,-866.7157 406.1186,-854.5975 426.3035,-844.2207\" fill=\"none\" stroke=\"#000000\"/>\n",
       "<polygon fill=\"#000000\" points=\"428.0172,-847.2752 435.3105,-839.5904 424.8167,-841.0497 428.0172,-847.2752\" stroke=\"#000000\"/>\n",
       "</g>\n",
       "<!-- 140668440359824 -->\n",
       "<g class=\"node\" id=\"node6\">\n",
       "<title>140668440359824</title>\n",
       "<polygon fill=\"none\" points=\"82,-730.5 82,-766.5 207,-766.5 207,-730.5 82,-730.5\" stroke=\"#000000\"/>\n",
       "<text fill=\"#000000\" font-family=\"Times,serif\" font-size=\"14.00\" text-anchor=\"middle\" x=\"144.5\" y=\"-744.8\">dropout_2: Dropout</text>\n",
       "</g>\n",
       "<!-- 140668440353872&#45;&gt;140668440359824 -->\n",
       "<g class=\"edge\" id=\"edge5\">\n",
       "<title>140668440353872-&gt;140668440359824</title>\n",
       "<path d=\"M145.2528,-803.4551C145.1422,-795.3828 145.0093,-785.6764 144.8861,-776.6817\" fill=\"none\" stroke=\"#000000\"/>\n",
       "<polygon fill=\"#000000\" points=\"148.3846,-776.5414 144.7478,-766.5904 141.3852,-776.6374 148.3846,-776.5414\" stroke=\"#000000\"/>\n",
       "</g>\n",
       "<!-- 140668439981976 -->\n",
       "<g class=\"node\" id=\"node7\">\n",
       "<title>140668439981976</title>\n",
       "<polygon fill=\"none\" points=\"266,-730.5 266,-766.5 391,-766.5 391,-730.5 266,-730.5\" stroke=\"#000000\"/>\n",
       "<text fill=\"#000000\" font-family=\"Times,serif\" font-size=\"14.00\" text-anchor=\"middle\" x=\"328.5\" y=\"-744.8\">dropout_3: Dropout</text>\n",
       "</g>\n",
       "<!-- 140668440359712&#45;&gt;140668439981976 -->\n",
       "<g class=\"edge\" id=\"edge6\">\n",
       "<title>140668440359712-&gt;140668439981976</title>\n",
       "<path d=\"M328.5,-803.4551C328.5,-795.3828 328.5,-785.6764 328.5,-776.6817\" fill=\"none\" stroke=\"#000000\"/>\n",
       "<polygon fill=\"#000000\" points=\"332.0001,-776.5903 328.5,-766.5904 325.0001,-776.5904 332.0001,-776.5903\" stroke=\"#000000\"/>\n",
       "</g>\n",
       "<!-- 140668439357032 -->\n",
       "<g class=\"node\" id=\"node8\">\n",
       "<title>140668439357032</title>\n",
       "<polygon fill=\"none\" points=\"450,-730.5 450,-766.5 575,-766.5 575,-730.5 450,-730.5\" stroke=\"#000000\"/>\n",
       "<text fill=\"#000000\" font-family=\"Times,serif\" font-size=\"14.00\" text-anchor=\"middle\" x=\"512.5\" y=\"-744.8\">dropout_4: Dropout</text>\n",
       "</g>\n",
       "<!-- 140668439981304&#45;&gt;140668439357032 -->\n",
       "<g class=\"edge\" id=\"edge7\">\n",
       "<title>140668439981304-&gt;140668439357032</title>\n",
       "<path d=\"M480.882,-803.4551C485.7282,-795.0319 491.5982,-784.8292 496.9584,-775.5128\" fill=\"none\" stroke=\"#000000\"/>\n",
       "<polygon fill=\"#000000\" points=\"500.1386,-777.0036 502.0918,-766.5904 494.0711,-773.5127 500.1386,-777.0036\" stroke=\"#000000\"/>\n",
       "</g>\n",
       "<!-- 140668440359936 -->\n",
       "<g class=\"node\" id=\"node9\">\n",
       "<title>140668440359936</title>\n",
       "<polygon fill=\"none\" points=\"0,-657.5 0,-693.5 207,-693.5 207,-657.5 0,-657.5\" stroke=\"#000000\"/>\n",
       "<text fill=\"#000000\" font-family=\"Times,serif\" font-size=\"14.00\" text-anchor=\"middle\" x=\"103.5\" y=\"-671.8\">max_pooling1d_4: MaxPooling1D</text>\n",
       "</g>\n",
       "<!-- 140668440359824&#45;&gt;140668440359936 -->\n",
       "<g class=\"edge\" id=\"edge8\">\n",
       "<title>140668440359824-&gt;140668440359936</title>\n",
       "<path d=\"M134.3652,-730.4551C129.6343,-722.0319 123.9041,-711.8292 118.6715,-702.5128\" fill=\"none\" stroke=\"#000000\"/>\n",
       "<polygon fill=\"#000000\" points=\"121.609,-700.5954 113.6603,-693.5904 115.5057,-704.0233 121.609,-700.5954\" stroke=\"#000000\"/>\n",
       "</g>\n",
       "<!-- 140668439981360 -->\n",
       "<g class=\"node\" id=\"node10\">\n",
       "<title>140668439981360</title>\n",
       "<polygon fill=\"none\" points=\"225,-657.5 225,-693.5 432,-693.5 432,-657.5 225,-657.5\" stroke=\"#000000\"/>\n",
       "<text fill=\"#000000\" font-family=\"Times,serif\" font-size=\"14.00\" text-anchor=\"middle\" x=\"328.5\" y=\"-671.8\">max_pooling1d_5: MaxPooling1D</text>\n",
       "</g>\n",
       "<!-- 140668439981976&#45;&gt;140668439981360 -->\n",
       "<g class=\"edge\" id=\"edge9\">\n",
       "<title>140668439981976-&gt;140668439981360</title>\n",
       "<path d=\"M328.5,-730.4551C328.5,-722.3828 328.5,-712.6764 328.5,-703.6817\" fill=\"none\" stroke=\"#000000\"/>\n",
       "<polygon fill=\"#000000\" points=\"332.0001,-703.5903 328.5,-693.5904 325.0001,-703.5904 332.0001,-703.5903\" stroke=\"#000000\"/>\n",
       "</g>\n",
       "<!-- 140668439358992 -->\n",
       "<g class=\"node\" id=\"node11\">\n",
       "<title>140668439358992</title>\n",
       "<polygon fill=\"none\" points=\"450,-657.5 450,-693.5 657,-693.5 657,-657.5 450,-657.5\" stroke=\"#000000\"/>\n",
       "<text fill=\"#000000\" font-family=\"Times,serif\" font-size=\"14.00\" text-anchor=\"middle\" x=\"553.5\" y=\"-671.8\">max_pooling1d_6: MaxPooling1D</text>\n",
       "</g>\n",
       "<!-- 140668439357032&#45;&gt;140668439358992 -->\n",
       "<g class=\"edge\" id=\"edge10\">\n",
       "<title>140668439357032-&gt;140668439358992</title>\n",
       "<path d=\"M522.6348,-730.4551C527.3657,-722.0319 533.0959,-711.8292 538.3285,-702.5128\" fill=\"none\" stroke=\"#000000\"/>\n",
       "<polygon fill=\"#000000\" points=\"541.4943,-704.0233 543.3397,-693.5904 535.391,-700.5954 541.4943,-704.0233\" stroke=\"#000000\"/>\n",
       "</g>\n",
       "<!-- 140668440353816 -->\n",
       "<g class=\"node\" id=\"node12\">\n",
       "<title>140668440353816</title>\n",
       "<polygon fill=\"none\" points=\"244.5,-584.5 244.5,-620.5 412.5,-620.5 412.5,-584.5 244.5,-584.5\" stroke=\"#000000\"/>\n",
       "<text fill=\"#000000\" font-family=\"Times,serif\" font-size=\"14.00\" text-anchor=\"middle\" x=\"328.5\" y=\"-598.8\">concatenate_1: Concatenate</text>\n",
       "</g>\n",
       "<!-- 140668440359936&#45;&gt;140668440353816 -->\n",
       "<g class=\"edge\" id=\"edge11\">\n",
       "<title>140668440359936-&gt;140668440353816</title>\n",
       "<path d=\"M159.118,-657.4551C190.6238,-647.2332 230.2066,-634.3907 263.1836,-623.6916\" fill=\"none\" stroke=\"#000000\"/>\n",
       "<polygon fill=\"#000000\" points=\"264.3103,-627.0057 272.742,-620.5904 262.15,-620.3473 264.3103,-627.0057\" stroke=\"#000000\"/>\n",
       "</g>\n",
       "<!-- 140668439981360&#45;&gt;140668440353816 -->\n",
       "<g class=\"edge\" id=\"edge12\">\n",
       "<title>140668439981360-&gt;140668440353816</title>\n",
       "<path d=\"M328.5,-657.4551C328.5,-649.3828 328.5,-639.6764 328.5,-630.6817\" fill=\"none\" stroke=\"#000000\"/>\n",
       "<polygon fill=\"#000000\" points=\"332.0001,-630.5903 328.5,-620.5904 325.0001,-630.5904 332.0001,-630.5903\" stroke=\"#000000\"/>\n",
       "</g>\n",
       "<!-- 140668439358992&#45;&gt;140668440353816 -->\n",
       "<g class=\"edge\" id=\"edge13\">\n",
       "<title>140668439358992-&gt;140668440353816</title>\n",
       "<path d=\"M497.882,-657.4551C466.3762,-647.2332 426.7934,-634.3907 393.8164,-623.6916\" fill=\"none\" stroke=\"#000000\"/>\n",
       "<polygon fill=\"#000000\" points=\"394.85,-620.3473 384.258,-620.5904 392.6897,-627.0057 394.85,-620.3473\" stroke=\"#000000\"/>\n",
       "</g>\n",
       "<!-- 140668439359216 -->\n",
       "<g class=\"node\" id=\"node13\">\n",
       "<title>140668439359216</title>\n",
       "<polygon fill=\"none\" points=\"267,-511.5 267,-547.5 390,-547.5 390,-511.5 267,-511.5\" stroke=\"#000000\"/>\n",
       "<text fill=\"#000000\" font-family=\"Times,serif\" font-size=\"14.00\" text-anchor=\"middle\" x=\"328.5\" y=\"-525.8\">conv1d_7: Conv1D</text>\n",
       "</g>\n",
       "<!-- 140668440353816&#45;&gt;140668439359216 -->\n",
       "<g class=\"edge\" id=\"edge14\">\n",
       "<title>140668440353816-&gt;140668439359216</title>\n",
       "<path d=\"M328.5,-584.4551C328.5,-576.3828 328.5,-566.6764 328.5,-557.6817\" fill=\"none\" stroke=\"#000000\"/>\n",
       "<polygon fill=\"#000000\" points=\"332.0001,-557.5903 328.5,-547.5904 325.0001,-557.5904 332.0001,-557.5903\" stroke=\"#000000\"/>\n",
       "</g>\n",
       "<!-- 140668439148080 -->\n",
       "<g class=\"node\" id=\"node14\">\n",
       "<title>140668439148080</title>\n",
       "<polygon fill=\"none\" points=\"225,-438.5 225,-474.5 432,-474.5 432,-438.5 225,-438.5\" stroke=\"#000000\"/>\n",
       "<text fill=\"#000000\" font-family=\"Times,serif\" font-size=\"14.00\" text-anchor=\"middle\" x=\"328.5\" y=\"-452.8\">max_pooling1d_7: MaxPooling1D</text>\n",
       "</g>\n",
       "<!-- 140668439359216&#45;&gt;140668439148080 -->\n",
       "<g class=\"edge\" id=\"edge15\">\n",
       "<title>140668439359216-&gt;140668439148080</title>\n",
       "<path d=\"M328.5,-511.4551C328.5,-503.3828 328.5,-493.6764 328.5,-484.6817\" fill=\"none\" stroke=\"#000000\"/>\n",
       "<polygon fill=\"#000000\" points=\"332.0001,-484.5903 328.5,-474.5904 325.0001,-484.5904 332.0001,-484.5903\" stroke=\"#000000\"/>\n",
       "</g>\n",
       "<!-- 140668439255304 -->\n",
       "<g class=\"node\" id=\"node15\">\n",
       "<title>140668439255304</title>\n",
       "<polygon fill=\"none\" points=\"267,-365.5 267,-401.5 390,-401.5 390,-365.5 267,-365.5\" stroke=\"#000000\"/>\n",
       "<text fill=\"#000000\" font-family=\"Times,serif\" font-size=\"14.00\" text-anchor=\"middle\" x=\"328.5\" y=\"-379.8\">conv1d_8: Conv1D</text>\n",
       "</g>\n",
       "<!-- 140668439148080&#45;&gt;140668439255304 -->\n",
       "<g class=\"edge\" id=\"edge16\">\n",
       "<title>140668439148080-&gt;140668439255304</title>\n",
       "<path d=\"M328.5,-438.4551C328.5,-430.3828 328.5,-420.6764 328.5,-411.6817\" fill=\"none\" stroke=\"#000000\"/>\n",
       "<polygon fill=\"#000000\" points=\"332.0001,-411.5903 328.5,-401.5904 325.0001,-411.5904 332.0001,-411.5903\" stroke=\"#000000\"/>\n",
       "</g>\n",
       "<!-- 140668439256312 -->\n",
       "<g class=\"node\" id=\"node16\">\n",
       "<title>140668439256312</title>\n",
       "<polygon fill=\"none\" points=\"225,-292.5 225,-328.5 432,-328.5 432,-292.5 225,-292.5\" stroke=\"#000000\"/>\n",
       "<text fill=\"#000000\" font-family=\"Times,serif\" font-size=\"14.00\" text-anchor=\"middle\" x=\"328.5\" y=\"-306.8\">max_pooling1d_8: MaxPooling1D</text>\n",
       "</g>\n",
       "<!-- 140668439255304&#45;&gt;140668439256312 -->\n",
       "<g class=\"edge\" id=\"edge17\">\n",
       "<title>140668439255304-&gt;140668439256312</title>\n",
       "<path d=\"M328.5,-365.4551C328.5,-357.3828 328.5,-347.6764 328.5,-338.6817\" fill=\"none\" stroke=\"#000000\"/>\n",
       "<polygon fill=\"#000000\" points=\"332.0001,-338.5903 328.5,-328.5904 325.0001,-338.5904 332.0001,-338.5903\" stroke=\"#000000\"/>\n",
       "</g>\n",
       "<!-- 140668439047360 -->\n",
       "<g class=\"node\" id=\"node17\">\n",
       "<title>140668439047360</title>\n",
       "<polygon fill=\"none\" points=\"273.5,-219.5 273.5,-255.5 383.5,-255.5 383.5,-219.5 273.5,-219.5\" stroke=\"#000000\"/>\n",
       "<text fill=\"#000000\" font-family=\"Times,serif\" font-size=\"14.00\" text-anchor=\"middle\" x=\"328.5\" y=\"-233.8\">flatten_2: Flatten</text>\n",
       "</g>\n",
       "<!-- 140668439256312&#45;&gt;140668439047360 -->\n",
       "<g class=\"edge\" id=\"edge18\">\n",
       "<title>140668439256312-&gt;140668439047360</title>\n",
       "<path d=\"M328.5,-292.4551C328.5,-284.3828 328.5,-274.6764 328.5,-265.6817\" fill=\"none\" stroke=\"#000000\"/>\n",
       "<polygon fill=\"#000000\" points=\"332.0001,-265.5903 328.5,-255.5904 325.0001,-265.5904 332.0001,-265.5903\" stroke=\"#000000\"/>\n",
       "</g>\n",
       "<!-- 140668438616552 -->\n",
       "<g class=\"node\" id=\"node18\">\n",
       "<title>140668438616552</title>\n",
       "<polygon fill=\"none\" points=\"277.5,-146.5 277.5,-182.5 379.5,-182.5 379.5,-146.5 277.5,-146.5\" stroke=\"#000000\"/>\n",
       "<text fill=\"#000000\" font-family=\"Times,serif\" font-size=\"14.00\" text-anchor=\"middle\" x=\"328.5\" y=\"-160.8\">dense_2: Dense</text>\n",
       "</g>\n",
       "<!-- 140668439047360&#45;&gt;140668438616552 -->\n",
       "<g class=\"edge\" id=\"edge19\">\n",
       "<title>140668439047360-&gt;140668438616552</title>\n",
       "<path d=\"M328.5,-219.4551C328.5,-211.3828 328.5,-201.6764 328.5,-192.6817\" fill=\"none\" stroke=\"#000000\"/>\n",
       "<polygon fill=\"#000000\" points=\"332.0001,-192.5903 328.5,-182.5904 325.0001,-192.5904 332.0001,-192.5903\" stroke=\"#000000\"/>\n",
       "</g>\n",
       "<!-- 140668438765128 -->\n",
       "<g class=\"node\" id=\"node19\">\n",
       "<title>140668438765128</title>\n",
       "<polygon fill=\"none\" points=\"266,-73.5 266,-109.5 391,-109.5 391,-73.5 266,-73.5\" stroke=\"#000000\"/>\n",
       "<text fill=\"#000000\" font-family=\"Times,serif\" font-size=\"14.00\" text-anchor=\"middle\" x=\"328.5\" y=\"-87.8\">dropout_5: Dropout</text>\n",
       "</g>\n",
       "<!-- 140668438616552&#45;&gt;140668438765128 -->\n",
       "<g class=\"edge\" id=\"edge20\">\n",
       "<title>140668438616552-&gt;140668438765128</title>\n",
       "<path d=\"M328.5,-146.4551C328.5,-138.3828 328.5,-128.6764 328.5,-119.6817\" fill=\"none\" stroke=\"#000000\"/>\n",
       "<polygon fill=\"#000000\" points=\"332.0001,-119.5903 328.5,-109.5904 325.0001,-119.5904 332.0001,-119.5903\" stroke=\"#000000\"/>\n",
       "</g>\n",
       "<!-- 140668438351096 -->\n",
       "<g class=\"node\" id=\"node20\">\n",
       "<title>140668438351096</title>\n",
       "<polygon fill=\"none\" points=\"285,-.5 285,-36.5 372,-36.5 372,-.5 285,-.5\" stroke=\"#000000\"/>\n",
       "<text fill=\"#000000\" font-family=\"Times,serif\" font-size=\"14.00\" text-anchor=\"middle\" x=\"328.5\" y=\"-14.8\">preds: Dense</text>\n",
       "</g>\n",
       "<!-- 140668438765128&#45;&gt;140668438351096 -->\n",
       "<g class=\"edge\" id=\"edge21\">\n",
       "<title>140668438765128-&gt;140668438351096</title>\n",
       "<path d=\"M328.5,-73.4551C328.5,-65.3828 328.5,-55.6764 328.5,-46.6817\" fill=\"none\" stroke=\"#000000\"/>\n",
       "<polygon fill=\"#000000\" points=\"332.0001,-46.5903 328.5,-36.5904 325.0001,-46.5904 332.0001,-46.5903\" stroke=\"#000000\"/>\n",
       "</g>\n",
       "</g>\n",
       "</svg>"
      ],
      "text/plain": [
       "<IPython.core.display.SVG object>"
      ]
     },
     "execution_count": 12,
     "metadata": {},
     "output_type": "execute_result"
    }
   ],
   "source": [
    "embedding_layer = Embedding(len(word_index) + 1,\n",
    "                            word_vector_dimensionality,\n",
    "                            weights=[embedding_matrix],\n",
    "                            input_length=max_sequence_length,\n",
    "                            trainable=False)\n",
    "\n",
    "inputs = Input(shape=(max_sequence_length,), dtype='int32') \n",
    "x = embedding_layer(inputs)\n",
    "\n",
    "convolutional_layer_towers = [] \n",
    "for kernel_size in [3, 4, 5]:\n",
    "    _x = Conv1D(filters=128, kernel_size=kernel_size, activation='relu')(x)\n",
    "    _x = Dropout(rate=0.1)(_x)\n",
    "    _x = MaxPooling1D(5)(_x)\n",
    "    convolutional_layer_towers.append(_x)\n",
    "x     = Concatenate(axis=1)(convolutional_layer_towers)\n",
    "x     = Conv1D(128, 5, activation='relu')(x) \n",
    "x     = MaxPooling1D(5)(x) \n",
    "x     = Conv1D(128, 5, activation='relu')(x) \n",
    "x     = MaxPooling1D(30)(x) \n",
    "x     = Flatten()(x) \n",
    "x     = Dense(128, activation='relu')(x)\n",
    "x     = Dropout(rate=0.5)(x)\n",
    "preds = Dense(2, activation='softmax', name='preds')(x)\n",
    "model = Model(input=inputs, output=preds)\n",
    "model.compile(loss='categorical_crossentropy',\n",
    "              optimizer='nadam',\n",
    "              metrics=['acc'])\n",
    "summary_and_diagram(model)"
   ]
  },
  {
   "cell_type": "code",
   "execution_count": 13,
   "metadata": {},
   "outputs": [
    {
     "name": "stdout",
     "output_type": "stream",
     "text": [
      "CPU times: user 1h 30min 55s, sys: 4min 39s, total: 1h 35min 35s\n",
      "Wall time: 13min 1s\n"
     ]
    }
   ],
   "source": [
    "%%time\n",
    "history = model.fit(x_train, y_train, validation_data=(x_val, y_val),\n",
    "                    epochs=100, batch_size=32, verbose=False)"
   ]
  },
  {
   "cell_type": "code",
   "execution_count": 14,
   "metadata": {},
   "outputs": [
    {
     "data": {
      "image/png": "[encoded data removed]",
      "text/plain": [
       "<Figure size 720x720 with 1 Axes>"
      ]
     },
     "metadata": {},
     "output_type": "display_data"
    },
    {
     "name": "stdout",
     "output_type": "stream",
     "text": [
      "max. validation accuracy observed: 0.9566563467492261\n",
      "max. validation accuracy history index: 9\n"
     ]
    }
   ],
   "source": [
    "model_training_plot(history)\n",
    "print(f'max. validation accuracy observed: {max(model.history.history[\"val_acc\"])}')\n",
    "print(f'max. validation accuracy history index: {model.history.history[\"val_acc\"].index(max(model.history.history[\"val_acc\"]))}')"
   ]
  }
 ],
 "metadata": {
  "kernelspec": {
   "display_name": "Python 3",
   "language": "python",
   "name": "python3"
  },
  "language_info": {
   "codemirror_mode": {
    "name": "ipython",
    "version": 3
   },
   "file_extension": ".py",
   "mimetype": "text/x-python",
   "name": "python",
   "nbconvert_exporter": "python",
   "pygments_lexer": "ipython3",
   "version": "3.6.8"
  }
 },
 "nbformat": 4,
 "nbformat_minor": 2
}
