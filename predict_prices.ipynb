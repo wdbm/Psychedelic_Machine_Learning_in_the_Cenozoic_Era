{
 "cells": [
  {
   "cell_type": "code",
   "execution_count": 2,
   "metadata": {},
   "outputs": [
    {
     "name": "stderr",
     "output_type": "stream",
     "text": [
      "Using TensorFlow backend.\n"
     ]
    }
   ],
   "source": [
    "import pandas as pd\n",
    "from collections import deque\n",
    "import random\n",
    "import numpy as np\n",
    "import tensorflow as tf\n",
    "import keras\n",
    "import matplotlib.pyplot as plt\n",
    "import time\n",
    "\n",
    "from keras import layers\n",
    "from keras import backend as K\n",
    "from keras.models import Sequential\n",
    "from keras.layers import (Dense, Dropout, Activation, LSTM, CuDNNLSTM, concatenate, Flatten,\n",
    "                          BatchNormalization, RepeatVector, TimeDistributed, Conv1D, MaxPooling1D)\n",
    "from tensorflow.keras.callbacks import TensorBoard\n",
    "from tensorflow.keras.callbacks import ModelCheckpoint, ModelCheckpoint\n",
    "from sklearn import preprocessing\n",
    "\n",
    "from tools import SequenceFrame, plot_history"
   ]
  },
  {
   "cell_type": "code",
   "execution_count": 3,
   "metadata": {},
   "outputs": [],
   "source": [
    "SEQ_LEN = 60  # how long of a preceeding sequence to collect for RNN\n",
    "FUTURE_PERIOD_PREDICT = 3  # how far into the future are we trying to predict?\n",
    "RATIO_TO_PREDICT = \"LTC-USD\"\n",
    "\n",
    "NAME = f\"{SEQ_LEN}-SEQ-{FUTURE_PERIOD_PREDICT}-PRED-{int(time.time())}\""
   ]
  },
  {
   "cell_type": "markdown",
   "metadata": {},
   "source": [
    "# Preprocessing, train/test split"
   ]
  },
  {
   "cell_type": "code",
   "execution_count": 5,
   "metadata": {},
   "outputs": [],
   "source": [
    "# load df\n",
    "main_df = pd.read_csv('main_df.csv')\n",
    "main_df.sort_values(by='time', ascending=True)\n",
    "main_df = main_df.set_index('time')"
   ]
  },
  {
   "cell_type": "code",
   "execution_count": 6,
   "metadata": {},
   "outputs": [],
   "source": [
    "# get input arrays for LSTM sequence training\n",
    "sf = SequenceFrame(main_df,\n",
    "                   forecast_vars=[f'{RATIO_TO_PREDICT}_close'],\n",
    "                   reflection_vars=['.*'], # f'^((?!{RATIO_TO_PREDICT}).)*$'\n",
    "                   forecast_steps=FUTURE_PERIOD_PREDICT,\n",
    "                   reflection_steps=SEQ_LEN,\n",
    "                   t0_past=True)\n",
    "\n",
    "#print(\"using previous measurements:\\n\", sf.reflected_columns, \"\\n\")\n",
    "#print(\"to predict:\\n\", sf.forecasted_columns)"
   ]
  },
  {
   "cell_type": "code",
   "execution_count": 7,
   "metadata": {},
   "outputs": [],
   "source": [
    "# get dfs of predictions and past sequence data, which will be reshaped\n",
    "df_forecasted, df_reflected = sf.split_sequence_data()\n",
    "\n",
    "# for parity, predict 3 timesteps in the future\n",
    "df_forecasted = df_forecasted[[f'LTC-USD_close_t+{FUTURE_PERIOD_PREDICT}']]\n",
    "\n",
    "# convert the future price values into higher (1) or lower (0) labels relative to most recent observed timestep\n",
    "_df = pd.DataFrame()\n",
    "target_columns = []\n",
    "initial_columns = df_forecasted.columns\n",
    "\n",
    "for c in initial_columns:\n",
    "    target_columns.append(f'{c}_higher')\n",
    "    _df[f'{c}_higher'] = (df_forecasted[c] > df_reflected[f'{RATIO_TO_PREDICT}_close_t']).astype(int) # 'current'\n",
    "    df_forecasted = df_forecasted.join(_df)\n",
    "else:\n",
    "    df_forecasted.drop(initial_columns, axis=1, inplace=True)"
   ]
  },
  {
   "cell_type": "code",
   "execution_count": 8,
   "metadata": {},
   "outputs": [],
   "source": [
    "# scale other prices to pct differences\n",
    "for c in df_reflected.columns:\n",
    "    df_reflected[c] = df_reflected[c].pct_change()\n",
    "df_reflected.dropna(inplace=True)\n",
    "for c in df_reflected.columns:\n",
    "    df_reflected[c] = preprocessing.scale(df_reflected[c].values)\n",
    "    \n",
    "# get rid of first row of forecasts now\n",
    "df_forecasted = df_forecasted.iloc[1:]"
   ]
  },
  {
   "cell_type": "code",
   "execution_count": 9,
   "metadata": {},
   "outputs": [
    {
     "name": "stdout",
     "output_type": "stream",
     "text": [
      "(97660, 480)\n",
      "(97660, 1)\n"
     ]
    }
   ],
   "source": [
    "print(df_reflected.shape)\n",
    "print(df_forecasted.shape)"
   ]
  },
  {
   "cell_type": "code",
   "execution_count": 10,
   "metadata": {},
   "outputs": [],
   "source": [
    "## here, split away some slice of the future data from the main dfs.\n",
    "validation_frac = 0.2\n",
    "split_ind = int((1-validation_frac)*len(df_reflected))\n",
    "\n",
    "training_input = df_reflected[:split_ind].values\n",
    "training_output = df_forecasted[:split_ind].values\n",
    "validation_input = df_reflected[split_ind:].values\n",
    "validation_output = df_forecasted[split_ind:].values\n",
    "\n",
    "training_input = training_input.reshape((training_input.shape[0], SEQ_LEN, len(sf.reflection_vars)))\n",
    "validation_input = validation_input.reshape((validation_input.shape[0], SEQ_LEN, len(sf.reflection_vars)))"
   ]
  },
  {
   "cell_type": "code",
   "execution_count": 11,
   "metadata": {},
   "outputs": [
    {
     "name": "stdout",
     "output_type": "stream",
     "text": [
      "(78128, 60, 8) (78128, 1)\n",
      "(19532, 60, 8) (19532, 1)\n"
     ]
    }
   ],
   "source": [
    "print(training_input.shape, training_output.shape)\n",
    "print(validation_input.shape, validation_output.shape)"
   ]
  },
  {
   "cell_type": "markdown",
   "metadata": {},
   "source": [
    "### preprocessing sanity checks"
   ]
  },
  {
   "cell_type": "code",
   "execution_count": 12,
   "metadata": {},
   "outputs": [
    {
     "name": "stdout",
     "output_type": "stream",
     "text": [
      "[-1.4540544  -0.08328593 -0.74516098 -0.00811349 -0.64585383 -0.00582664\n",
      " -0.01345761 -0.0534055 ]\n",
      "\n",
      "BTC-USD_close_t-59    -1.454054\n",
      "BTC-USD_volume_t-59   -0.083286\n",
      "LTC-USD_close_t-59    -0.745161\n",
      "LTC-USD_volume_t-59   -0.008113\n",
      "BCH-USD_close_t-59    -0.645854\n",
      "BCH-USD_volume_t-59   -0.005827\n",
      "ETH-USD_close_t-59    -0.013458\n",
      "ETH-USD_volume_t-59   -0.053405\n",
      "Name: 1528972320, dtype: float64\n",
      "\n",
      "[0]\n",
      "\n",
      "96.589996\n",
      "96.400002\n"
     ]
    }
   ],
   "source": [
    "# sanity check - first element of first input array is the set of 8 variables at the earliest timestep \n",
    "print(training_input[0,0])\n",
    "print(\"\")\n",
    "print(df_reflected.iloc[0][:8])\n",
    "print(\"\")\n",
    "\n",
    "# the output 0 implies price should go down\n",
    "print(training_output[0])\n",
    "print(\"\")\n",
    "print(main_df.iloc[SEQ_LEN]['LTC-USD_close'])\n",
    "print(main_df.iloc[SEQ_LEN+FUTURE_PERIOD_PREDICT]['LTC-USD_close']) # confirm: should be lower FUTURE_PERIOD_PREDICT timesteps later"
   ]
  },
  {
   "cell_type": "code",
   "execution_count": 13,
   "metadata": {},
   "outputs": [
    {
     "name": "stdout",
     "output_type": "stream",
     "text": [
      "buys, sales (training):\n",
      "32471 45657\n",
      "buys, sales (validation):\n",
      "8437 11095\n"
     ]
    }
   ],
   "source": [
    "# we want the same number of buys and sells, so we have to cut out some of our data according to which appears the least\n",
    "# (first index is first axis - the number of samples)\n",
    "buy_inds_train, sell_inds_train = np.where(training_output == [1])[0], np.where(training_output == [0])[0]\n",
    "buy_inds_validation, sell_inds_validation = np.where(validation_output == [1])[0], np.where(validation_output == [0])[0]\n",
    "\n",
    "# get the total numbers \n",
    "total_buys_train, total_buys_validation = len(buy_inds_train), len(buy_inds_validation)\n",
    "total_sales_train, total_sales_validation = len(sell_inds_train), len(sell_inds_validation)\n",
    "\n",
    "# the minimum in each dataset is the total number we use\n",
    "n_use_train, n_use_validation = min(total_buys_train, total_sales_train), min(total_buys_validation, total_sales_validation)\n",
    "\n",
    "print(\"buys, sales (training):\")\n",
    "print(total_buys_train, total_sales_train)\n",
    "print(\"buys, sales (validation):\")\n",
    "print(total_buys_validation, total_sales_validation)"
   ]
  },
  {
   "cell_type": "code",
   "execution_count": 14,
   "metadata": {},
   "outputs": [],
   "source": [
    "# cut down our inputs to equalise buys and sells\n",
    "training_input_lstm = np.concatenate(\n",
    "    (training_input[buy_inds_train[:n_use_train]], training_input[sell_inds_train[:n_use_train]]))\n",
    "training_output_lstm = np.concatenate(\n",
    "    (training_output[buy_inds_train[:n_use_train]], training_output[sell_inds_train[:n_use_train]]))\n",
    "validation_input_lstm = np.concatenate(\n",
    "    (validation_input[buy_inds_validation[:n_use_validation]], validation_input[sell_inds_validation[:n_use_validation]]))\n",
    "validation_output_lstm = np.concatenate(\n",
    "    (validation_output[buy_inds_validation[:n_use_validation]], validation_output[sell_inds_validation[:n_use_validation]]))"
   ]
  },
  {
   "cell_type": "markdown",
   "metadata": {},
   "source": [
    "### shuffle sequences"
   ]
  },
  {
   "cell_type": "code",
   "execution_count": 15,
   "metadata": {},
   "outputs": [],
   "source": [
    "# shuffle inputs and outputs by same random permutation\n",
    "trn_shuff_perm = np.random.permutation(training_input_lstm.shape[0])\n",
    "val_shuff_perm = np.random.permutation(validation_input_lstm.shape[0])\n",
    "\n",
    "# shuffle\n",
    "training_input_lstm = training_input_lstm[trn_shuff_perm]\n",
    "training_output_lstm = training_output_lstm[trn_shuff_perm]\n",
    "validation_input_lstm = validation_input_lstm[val_shuff_perm]\n",
    "validation_output_lstm = validation_output_lstm[val_shuff_perm]"
   ]
  },
  {
   "cell_type": "markdown",
   "metadata": {},
   "source": [
    "# Setup Neural Networks"
   ]
  },
  {
   "cell_type": "code",
   "execution_count": 16,
   "metadata": {},
   "outputs": [],
   "source": [
    "# board the CUDA train to seshlehem\n",
    "try:\n",
    "    sess = tf.Session(config=tf.ConfigProto(log_device_placement=True))\n",
    "    assert K.tensorflow_backend._get_available_gpus()\n",
    "except:\n",
    "    print(\"whoops, someone needs to buy a GPU...\")\n",
    "    print(\"make sure to go AFK for a while.\")"
   ]
  },
  {
   "cell_type": "markdown",
   "metadata": {},
   "source": [
    "## Network 1 - vanilla LSTM"
   ]
  },
  {
   "cell_type": "code",
   "execution_count": 17,
   "metadata": {},
   "outputs": [],
   "source": [
    "def build_lstm_model(LSTM_nodes = 200,\n",
    "                     dense_nodes = 50,\n",
    "                     LSTM_layers = 3,\n",
    "                     dense_layers = 1,\n",
    "                     activation = 'relu',\n",
    "                     dropout = 0.2,\n",
    "                     input_dim=training_input_lstm.shape[-1],\n",
    "                     reflection_steps=training_input_lstm.shape[1],\n",
    "                     output_dim=training_output_lstm.shape[1],\n",
    "                     regress=True):\n",
    "    \"\"\" build LSTM model \"\"\"\n",
    "\n",
    "    model = Sequential()\n",
    "    rs = True if LSTM_layers > 1 else False\n",
    "    model.add(CuDNNLSTM(LSTM_nodes,\n",
    "                        input_shape=(reflection_steps, input_dim),\n",
    "                        return_sequences=rs))\n",
    "    model.add(Dropout(dropout))\n",
    "    for l in range(LSTM_layers-1):\n",
    "        rs = False if l == LSTM_layers-2 else True\n",
    "        model.add(CuDNNLSTM(LSTM_nodes, return_sequences=rs))\n",
    "        model.add(Dropout(dropout))\n",
    "    model.add(Dense(dense_nodes, activation=activation))\n",
    "    model.add(Dropout(dropout))\n",
    "    for l in range(dense_layers-1):\n",
    "        model.add(Dense(dense_nodes, activation=activation))\n",
    "        model.add(Dropout(dropout))\n",
    "    \n",
    "    # connect to outputs if not using as part of a multi-input network\n",
    "    if regress:\n",
    "        model.add(Dense(2, activation='softmax'))\n",
    "    return model"
   ]
  },
  {
   "cell_type": "code",
   "execution_count": 18,
   "metadata": {},
   "outputs": [],
   "source": [
    "# design network\n",
    "# network hyperparameters\n",
    "LSTM_nodes = 128\n",
    "dense_nodes = 32\n",
    "LSTM_layers = 3\n",
    "dense_layers = 1\n",
    "activation = 'relu'\n",
    "dropout = 0.2\n",
    "\n",
    "# training parameters\n",
    "epochs = 100\n",
    "batch_size = 50\n",
    "validation_split = 0.2\n",
    "\n",
    "# compile model\n",
    "lstm_model = build_lstm_model(LSTM_nodes = LSTM_nodes,\n",
    "                             dense_nodes = dense_nodes,\n",
    "                             LSTM_layers = LSTM_layers,\n",
    "                             dense_layers = dense_layers,\n",
    "                             activation = activation,\n",
    "                             dropout = dropout,\n",
    "                             regress=True)\n",
    "\n",
    "opt = keras.optimizers.Adam(lr=0.0005, decay=1e-6)\n",
    "\n",
    "# Compile model\n",
    "lstm_model.compile(\n",
    "    loss='sparse_categorical_crossentropy',\n",
    "    optimizer=opt,\n",
    "    metrics=['accuracy']\n",
    ")\n",
    "\n",
    "name = f\"{SEQ_LEN}-SEQ-{FUTURE_PERIOD_PREDICT}-PRED-LSTM-{int(time.time())}\"\n",
    "\n",
    "tensorboard = TensorBoard(log_dir=\"logs/{}\".format(name))\n",
    "filepath = \"LSTM-{epoch:02d}-{val_acc:.3f}\"  # unique file name that will include the epoch and the validation acc for that epoch\n",
    "checkpoint = ModelCheckpoint(\"models/{}.model\".format(filepath,\n",
    "                                                      monitor='val_acc',\n",
    "                                                      verbose=1,\n",
    "                                                      save_best_only=True,\n",
    "                                                      mode='max')) # saves only the best ones\n",
    "early_stop = keras.callbacks.EarlyStopping(monitor='val_acc', patience=10)"
   ]
  },
  {
   "cell_type": "markdown",
   "metadata": {},
   "source": [
    "## fit model"
   ]
  },
  {
   "cell_type": "code",
   "execution_count": 18,
   "metadata": {},
   "outputs": [
    {
     "name": "stdout",
     "output_type": "stream",
     "text": [
      "Train on 64942 samples, validate on 16874 samples\n",
      "Epoch 1/100\n",
      "64942/64942 [==============================] - 30s 457us/step - loss: 0.6854 - acc: 0.5435 - val_loss: 0.7167 - val_acc: 0.4960\n",
      "Epoch 2/100\n",
      "64942/64942 [==============================] - 25s 381us/step - loss: 0.6640 - acc: 0.5813 - val_loss: 0.7010 - val_acc: 0.5152\n",
      "Epoch 3/100\n",
      "64942/64942 [==============================] - 25s 379us/step - loss: 0.6522 - acc: 0.5920 - val_loss: 0.7368 - val_acc: 0.5235\n",
      "Epoch 4/100\n",
      "64942/64942 [==============================] - 25s 381us/step - loss: 0.6414 - acc: 0.6048 - val_loss: 0.7710 - val_acc: 0.5215\n",
      "Epoch 5/100\n",
      "64942/64942 [==============================] - 25s 380us/step - loss: 0.6353 - acc: 0.6132 - val_loss: 0.8064 - val_acc: 0.5291\n",
      "Epoch 6/100\n",
      "64942/64942 [==============================] - 25s 379us/step - loss: 0.6270 - acc: 0.6196 - val_loss: 0.8982 - val_acc: 0.5286\n",
      "Epoch 7/100\n",
      "64942/64942 [==============================] - 25s 379us/step - loss: 0.6204 - acc: 0.6252 - val_loss: 0.8720 - val_acc: 0.5316\n",
      "Epoch 8/100\n",
      "64942/64942 [==============================] - 25s 381us/step - loss: 0.6132 - acc: 0.6319 - val_loss: 0.9263 - val_acc: 0.5299\n",
      "Epoch 9/100\n",
      "64942/64942 [==============================] - 25s 381us/step - loss: 0.6048 - acc: 0.6394 - val_loss: 0.9918 - val_acc: 0.5270\n",
      "Epoch 10/100\n",
      "64942/64942 [==============================] - 25s 383us/step - loss: 0.5979 - acc: 0.6479 - val_loss: 0.8840 - val_acc: 0.5322\n",
      "Epoch 11/100\n",
      "64942/64942 [==============================] - 25s 382us/step - loss: 0.5902 - acc: 0.6544 - val_loss: 1.0650 - val_acc: 0.5260\n",
      "Epoch 12/100\n",
      "29300/64942 [============>.................] - ETA: 12s - loss: 0.5850 - acc: 0.6589"
     ]
    },
    {
     "ename": "KeyboardInterrupt",
     "evalue": "",
     "output_type": "error",
     "traceback": [
      "\u001b[0;31m---------------------------------------------------------------------------\u001b[0m",
      "\u001b[0;31mKeyboardInterrupt\u001b[0m                         Traceback (most recent call last)",
      "\u001b[0;32m<ipython-input-18-25d011aea4f8>\u001b[0m in \u001b[0;36m<module>\u001b[0;34m()\u001b[0m\n\u001b[1;32m      3\u001b[0m                               \u001b[0mepochs\u001b[0m\u001b[0;34m=\u001b[0m\u001b[0mepochs\u001b[0m\u001b[0;34m,\u001b[0m \u001b[0mbatch_size\u001b[0m\u001b[0;34m=\u001b[0m\u001b[0mbatch_size\u001b[0m\u001b[0;34m,\u001b[0m\u001b[0;34m\u001b[0m\u001b[0;34m\u001b[0m\u001b[0m\n\u001b[1;32m      4\u001b[0m                               \u001b[0mvalidation_data\u001b[0m\u001b[0;34m=\u001b[0m\u001b[0;34m(\u001b[0m\u001b[0mvalidation_input_lstm\u001b[0m\u001b[0;34m,\u001b[0m \u001b[0mvalidation_output_lstm\u001b[0m\u001b[0;34m)\u001b[0m\u001b[0;34m,\u001b[0m\u001b[0;34m\u001b[0m\u001b[0;34m\u001b[0m\u001b[0m\n\u001b[0;32m----> 5\u001b[0;31m                               verbose=1, shuffle=False, callbacks=[early_stop])\n\u001b[0m\u001b[1;32m      6\u001b[0m \u001b[0;34m\u001b[0m\u001b[0m\n\u001b[1;32m      7\u001b[0m \u001b[0;31m# plot history\u001b[0m\u001b[0;34m\u001b[0m\u001b[0;34m\u001b[0m\u001b[0;34m\u001b[0m\u001b[0m\n",
      "\u001b[0;32m~/anaconda3/lib/python3.6/site-packages/keras/engine/training.py\u001b[0m in \u001b[0;36mfit\u001b[0;34m(self, x, y, batch_size, epochs, verbose, callbacks, validation_split, validation_data, shuffle, class_weight, sample_weight, initial_epoch, steps_per_epoch, validation_steps, **kwargs)\u001b[0m\n\u001b[1;32m   1037\u001b[0m                                         \u001b[0minitial_epoch\u001b[0m\u001b[0;34m=\u001b[0m\u001b[0minitial_epoch\u001b[0m\u001b[0;34m,\u001b[0m\u001b[0;34m\u001b[0m\u001b[0;34m\u001b[0m\u001b[0m\n\u001b[1;32m   1038\u001b[0m                                         \u001b[0msteps_per_epoch\u001b[0m\u001b[0;34m=\u001b[0m\u001b[0msteps_per_epoch\u001b[0m\u001b[0;34m,\u001b[0m\u001b[0;34m\u001b[0m\u001b[0;34m\u001b[0m\u001b[0m\n\u001b[0;32m-> 1039\u001b[0;31m                                         validation_steps=validation_steps)\n\u001b[0m\u001b[1;32m   1040\u001b[0m \u001b[0;34m\u001b[0m\u001b[0m\n\u001b[1;32m   1041\u001b[0m     def evaluate(self, x=None, y=None,\n",
      "\u001b[0;32m~/anaconda3/lib/python3.6/site-packages/keras/engine/training_arrays.py\u001b[0m in \u001b[0;36mfit_loop\u001b[0;34m(model, f, ins, out_labels, batch_size, epochs, verbose, callbacks, val_f, val_ins, shuffle, callback_metrics, initial_epoch, steps_per_epoch, validation_steps)\u001b[0m\n\u001b[1;32m    197\u001b[0m                     \u001b[0mins_batch\u001b[0m\u001b[0;34m[\u001b[0m\u001b[0mi\u001b[0m\u001b[0;34m]\u001b[0m \u001b[0;34m=\u001b[0m \u001b[0mins_batch\u001b[0m\u001b[0;34m[\u001b[0m\u001b[0mi\u001b[0m\u001b[0;34m]\u001b[0m\u001b[0;34m.\u001b[0m\u001b[0mtoarray\u001b[0m\u001b[0;34m(\u001b[0m\u001b[0;34m)\u001b[0m\u001b[0;34m\u001b[0m\u001b[0;34m\u001b[0m\u001b[0m\n\u001b[1;32m    198\u001b[0m \u001b[0;34m\u001b[0m\u001b[0m\n\u001b[0;32m--> 199\u001b[0;31m                 \u001b[0mouts\u001b[0m \u001b[0;34m=\u001b[0m \u001b[0mf\u001b[0m\u001b[0;34m(\u001b[0m\u001b[0mins_batch\u001b[0m\u001b[0;34m)\u001b[0m\u001b[0;34m\u001b[0m\u001b[0;34m\u001b[0m\u001b[0m\n\u001b[0m\u001b[1;32m    200\u001b[0m                 \u001b[0mouts\u001b[0m \u001b[0;34m=\u001b[0m \u001b[0mto_list\u001b[0m\u001b[0;34m(\u001b[0m\u001b[0mouts\u001b[0m\u001b[0;34m)\u001b[0m\u001b[0;34m\u001b[0m\u001b[0;34m\u001b[0m\u001b[0m\n\u001b[1;32m    201\u001b[0m                 \u001b[0;32mfor\u001b[0m \u001b[0ml\u001b[0m\u001b[0;34m,\u001b[0m \u001b[0mo\u001b[0m \u001b[0;32min\u001b[0m \u001b[0mzip\u001b[0m\u001b[0;34m(\u001b[0m\u001b[0mout_labels\u001b[0m\u001b[0;34m,\u001b[0m \u001b[0mouts\u001b[0m\u001b[0;34m)\u001b[0m\u001b[0;34m:\u001b[0m\u001b[0;34m\u001b[0m\u001b[0;34m\u001b[0m\u001b[0m\n",
      "\u001b[0;32m~/anaconda3/lib/python3.6/site-packages/keras/backend/tensorflow_backend.py\u001b[0m in \u001b[0;36m__call__\u001b[0;34m(self, inputs)\u001b[0m\n\u001b[1;32m   2713\u001b[0m                 \u001b[0;32mreturn\u001b[0m \u001b[0mself\u001b[0m\u001b[0;34m.\u001b[0m\u001b[0m_legacy_call\u001b[0m\u001b[0;34m(\u001b[0m\u001b[0minputs\u001b[0m\u001b[0;34m)\u001b[0m\u001b[0;34m\u001b[0m\u001b[0;34m\u001b[0m\u001b[0m\n\u001b[1;32m   2714\u001b[0m \u001b[0;34m\u001b[0m\u001b[0m\n\u001b[0;32m-> 2715\u001b[0;31m             \u001b[0;32mreturn\u001b[0m \u001b[0mself\u001b[0m\u001b[0;34m.\u001b[0m\u001b[0m_call\u001b[0m\u001b[0;34m(\u001b[0m\u001b[0minputs\u001b[0m\u001b[0;34m)\u001b[0m\u001b[0;34m\u001b[0m\u001b[0;34m\u001b[0m\u001b[0m\n\u001b[0m\u001b[1;32m   2716\u001b[0m         \u001b[0;32melse\u001b[0m\u001b[0;34m:\u001b[0m\u001b[0;34m\u001b[0m\u001b[0;34m\u001b[0m\u001b[0m\n\u001b[1;32m   2717\u001b[0m             \u001b[0;32mif\u001b[0m \u001b[0mpy_any\u001b[0m\u001b[0;34m(\u001b[0m\u001b[0mis_tensor\u001b[0m\u001b[0;34m(\u001b[0m\u001b[0mx\u001b[0m\u001b[0;34m)\u001b[0m \u001b[0;32mfor\u001b[0m \u001b[0mx\u001b[0m \u001b[0;32min\u001b[0m \u001b[0minputs\u001b[0m\u001b[0;34m)\u001b[0m\u001b[0;34m:\u001b[0m\u001b[0;34m\u001b[0m\u001b[0;34m\u001b[0m\u001b[0m\n",
      "\u001b[0;32m~/anaconda3/lib/python3.6/site-packages/keras/backend/tensorflow_backend.py\u001b[0m in \u001b[0;36m_call\u001b[0;34m(self, inputs)\u001b[0m\n\u001b[1;32m   2673\u001b[0m             \u001b[0mfetched\u001b[0m \u001b[0;34m=\u001b[0m \u001b[0mself\u001b[0m\u001b[0;34m.\u001b[0m\u001b[0m_callable_fn\u001b[0m\u001b[0;34m(\u001b[0m\u001b[0;34m*\u001b[0m\u001b[0marray_vals\u001b[0m\u001b[0;34m,\u001b[0m \u001b[0mrun_metadata\u001b[0m\u001b[0;34m=\u001b[0m\u001b[0mself\u001b[0m\u001b[0;34m.\u001b[0m\u001b[0mrun_metadata\u001b[0m\u001b[0;34m)\u001b[0m\u001b[0;34m\u001b[0m\u001b[0;34m\u001b[0m\u001b[0m\n\u001b[1;32m   2674\u001b[0m         \u001b[0;32melse\u001b[0m\u001b[0;34m:\u001b[0m\u001b[0;34m\u001b[0m\u001b[0;34m\u001b[0m\u001b[0m\n\u001b[0;32m-> 2675\u001b[0;31m             \u001b[0mfetched\u001b[0m \u001b[0;34m=\u001b[0m \u001b[0mself\u001b[0m\u001b[0;34m.\u001b[0m\u001b[0m_callable_fn\u001b[0m\u001b[0;34m(\u001b[0m\u001b[0;34m*\u001b[0m\u001b[0marray_vals\u001b[0m\u001b[0;34m)\u001b[0m\u001b[0;34m\u001b[0m\u001b[0;34m\u001b[0m\u001b[0m\n\u001b[0m\u001b[1;32m   2676\u001b[0m         \u001b[0;32mreturn\u001b[0m \u001b[0mfetched\u001b[0m\u001b[0;34m[\u001b[0m\u001b[0;34m:\u001b[0m\u001b[0mlen\u001b[0m\u001b[0;34m(\u001b[0m\u001b[0mself\u001b[0m\u001b[0;34m.\u001b[0m\u001b[0moutputs\u001b[0m\u001b[0;34m)\u001b[0m\u001b[0;34m]\u001b[0m\u001b[0;34m\u001b[0m\u001b[0;34m\u001b[0m\u001b[0m\n\u001b[1;32m   2677\u001b[0m \u001b[0;34m\u001b[0m\u001b[0m\n",
      "\u001b[0;32m~/anaconda3/lib/python3.6/site-packages/tensorflow/python/client/session.py\u001b[0m in \u001b[0;36m__call__\u001b[0;34m(self, *args, **kwargs)\u001b[0m\n\u001b[1;32m   1437\u001b[0m           ret = tf_session.TF_SessionRunCallable(\n\u001b[1;32m   1438\u001b[0m               \u001b[0mself\u001b[0m\u001b[0;34m.\u001b[0m\u001b[0m_session\u001b[0m\u001b[0;34m.\u001b[0m\u001b[0m_session\u001b[0m\u001b[0;34m,\u001b[0m \u001b[0mself\u001b[0m\u001b[0;34m.\u001b[0m\u001b[0m_handle\u001b[0m\u001b[0;34m,\u001b[0m \u001b[0margs\u001b[0m\u001b[0;34m,\u001b[0m \u001b[0mstatus\u001b[0m\u001b[0;34m,\u001b[0m\u001b[0;34m\u001b[0m\u001b[0;34m\u001b[0m\u001b[0m\n\u001b[0;32m-> 1439\u001b[0;31m               run_metadata_ptr)\n\u001b[0m\u001b[1;32m   1440\u001b[0m         \u001b[0;32mif\u001b[0m \u001b[0mrun_metadata\u001b[0m\u001b[0;34m:\u001b[0m\u001b[0;34m\u001b[0m\u001b[0;34m\u001b[0m\u001b[0m\n\u001b[1;32m   1441\u001b[0m           \u001b[0mproto_data\u001b[0m \u001b[0;34m=\u001b[0m \u001b[0mtf_session\u001b[0m\u001b[0;34m.\u001b[0m\u001b[0mTF_GetBuffer\u001b[0m\u001b[0;34m(\u001b[0m\u001b[0mrun_metadata_ptr\u001b[0m\u001b[0;34m)\u001b[0m\u001b[0;34m\u001b[0m\u001b[0;34m\u001b[0m\u001b[0m\n",
      "\u001b[0;31mKeyboardInterrupt\u001b[0m: "
     ]
    }
   ],
   "source": [
    "# fit network and plot loss\n",
    "ltsm_history = lstm_model.fit(training_input_lstm, training_output_lstm,\n",
    "                              epochs=epochs, batch_size=batch_size,\n",
    "                              validation_data=(validation_input_lstm, validation_output_lstm),\n",
    "                              verbose=1, shuffle=False, callbacks=[early_stop])\n",
    "\n",
    "# plot history\n",
    "plt.plot(ltsm_history.history['acc'], label='train')\n",
    "plt.plot(ltsm_history.history['val_acc'], label='validate')\n",
    "plt.legend()\n",
    "plt.show()"
   ]
  },
  {
   "cell_type": "markdown",
   "metadata": {},
   "source": [
    "# Network 2 - Encoder-decoder LSTM"
   ]
  },
  {
   "cell_type": "code",
   "execution_count": 19,
   "metadata": {},
   "outputs": [
    {
     "name": "stdout",
     "output_type": "stream",
     "text": [
      "(64942, 1, 1) (64942, 1)\n",
      "(16874, 1, 1) (16874, 1)\n"
     ]
    }
   ],
   "source": [
    "# seq2seq: need to reshape training/testing output to 3d samples * timesteps * features form!\n",
    "training_output_enc_dec_lstm = training_output_lstm.reshape(\n",
    "    (training_output_lstm.shape[0], 1, training_output_lstm.shape[1]))\n",
    "validation_output_enc_dec_lstm = validation_output_lstm.reshape(\n",
    "    (validation_output_lstm.shape[0], 1, validation_output_lstm.shape[1]))\n",
    "\n",
    "print(training_output_enc_dec_lstm.shape, training_output_lstm.shape)\n",
    "print(validation_output_enc_dec_lstm.shape, validation_output_lstm.shape)"
   ]
  },
  {
   "cell_type": "code",
   "execution_count": 20,
   "metadata": {},
   "outputs": [],
   "source": [
    "def build_enc_dec_lstm_model(LSTM_nodes = 100,\n",
    "                             dense_nodes = 100,\n",
    "                             encoder_LSTM_layers = 2,\n",
    "                             decoder_LSTM_layers = 2,\n",
    "                             dense_layers = 1,\n",
    "                             activation = 'relu',\n",
    "                             dropout = 0.2,\n",
    "                             input_dim=training_input_lstm.shape[1:],\n",
    "                             output_dim=training_output_enc_dec_lstm.shape[-1],\n",
    "                             regress=True):\n",
    "    \"\"\" build encoder-decoder LSTM model\n",
    "        see:\n",
    "            https://machinelearningmastery.com/encoder-decoder-long-short-term-memory-networks/\n",
    "            \n",
    "            https://machinelearningmastery.com/how-to-develop-lstm-models-for-multi-step-time\n",
    "            -series-forecasting-of-household-power-consumption/\n",
    "    \"\"\"\n",
    "    model = keras.Sequential()\n",
    "\n",
    "    ### encoder ------------------------------------------------------\n",
    "    # learns relationship between steps in input sequence, develops internal representation of these\n",
    "    # 1+ LSTM layers. Outputs fixed-size vector holding internal representation\n",
    "    rs = True if encoder_LSTM_layers > 1 else False\n",
    "    model.add(CuDNNLSTM(LSTM_nodes,\n",
    "                        input_shape=input_dim,\n",
    "                        return_sequences=rs))\n",
    "    model.add(Dropout(dropout))\n",
    "    for l in range(encoder_LSTM_layers-1):\n",
    "        rs = False if l == encoder_LSTM_layers-2 else True # last layer doesn't return seq, just internal vector repr.\n",
    "        model.add(CuDNNLSTM(LSTM_nodes, return_sequences=rs))\n",
    "        model.add(Dropout(dropout))\n",
    "    # internal representation of input sequence repeated multiple times,\n",
    "    # once for each timestep in output sequence. this seq then presented to decoder\n",
    "    # the decoder should map onto an output sequence\n",
    "    # so we need 3D samples * timesteps (output seq) * (latent = n_lstm_nodes) features. \n",
    "    model.add(RepeatVector(training_output_enc_dec_lstm.shape[1])) # repeatvector fits encoder to decoder.\n",
    "\n",
    "    ### decoder ------------------------------------------------------\n",
    "    # converts internal representation into sequence output\n",
    "    # 1+ LSTM layers outputting sequence, once for each forecasted timestep\n",
    "    for l in range(decoder_LSTM_layers):\n",
    "        model.add(CuDNNLSTM(LSTM_nodes, return_sequences=True))\n",
    "        model.add(Dropout(dropout))\n",
    "    \n",
    "    ### output --------------------------------------------------------\n",
    "    # decoder output here is shape: timesteps (output seq) * latent features (for timestep)\n",
    "    # dense layer interprets each timestep in the output sequence one at a time\n",
    "    # to do this use TimeDistributed wrapper, applying the same weights to each step\n",
    "    model.add(TimeDistributed(Dense(dense_nodes, activation=activation)))\n",
    "    model.add(Dropout(dropout))\n",
    "    # output layer (softmax)\n",
    "    # connect to outputs if not using as part of a multi-input network\n",
    "    if regress:\n",
    "        model.add(TimeDistributed(Dense(2, activation='softmax')))\n",
    "\n",
    "    return model"
   ]
  },
  {
   "cell_type": "code",
   "execution_count": 25,
   "metadata": {},
   "outputs": [],
   "source": [
    "# design network\n",
    "# network hyperparameters\n",
    "LSTM_nodes = 128\n",
    "dense_nodes = 32\n",
    "encoder_LSTM_layers = 2\n",
    "decoder_LSTM_layers = 2\n",
    "dense_layers = 1\n",
    "activation = 'relu'\n",
    "dropout = 0.3\n",
    "learning_rate=0.0001\n",
    "# training parameters\n",
    "epochs = 25\n",
    "batch_size = 50\n",
    "\n",
    "# build model\n",
    "enc_dec_lstm_model = build_enc_dec_lstm_model(LSTM_nodes = LSTM_nodes,\n",
    "                                              dense_nodes = dense_nodes,\n",
    "                                              encoder_LSTM_layers = encoder_LSTM_layers,\n",
    "                                              decoder_LSTM_layers = decoder_LSTM_layers,\n",
    "                                              dense_layers = dense_layers,\n",
    "                                              activation = activation,\n",
    "                                              dropout = dropout,\n",
    "                                              regress=True)\n",
    "\n",
    "# define callback to force model to stop training if validation loss doesn't improve\n",
    "early_stop = keras.callbacks.EarlyStopping(monitor='val_acc', patience=10)\n",
    "opt = keras.optimizers.Adam(lr=learning_rate, decay=1e-6)\n",
    "\n",
    "# Compile model\n",
    "enc_dec_lstm_model.compile(\n",
    "    loss='sparse_categorical_crossentropy',\n",
    "    optimizer=opt,\n",
    "    metrics=['accuracy']\n",
    ")"
   ]
  },
  {
   "cell_type": "code",
   "execution_count": 26,
   "metadata": {},
   "outputs": [
    {
     "name": "stdout",
     "output_type": "stream",
     "text": [
      "Train on 64942 samples, validate on 16874 samples\n",
      "Epoch 1/25\n",
      "64942/64942 [==============================] - 24s 377us/step - loss: 0.6892 - acc: 0.4995 - val_loss: 0.7005 - val_acc: 0.5007\n",
      "Epoch 2/25\n",
      "64942/64942 [==============================] - 20s 302us/step - loss: 0.6686 - acc: 0.5020 - val_loss: 0.7082 - val_acc: 0.5003\n",
      "Epoch 3/25\n",
      "64942/64942 [==============================] - 20s 300us/step - loss: 0.6619 - acc: 0.5018 - val_loss: 0.7122 - val_acc: 0.4998\n",
      "Epoch 4/25\n",
      "64942/64942 [==============================] - 20s 304us/step - loss: 0.6597 - acc: 0.5013 - val_loss: 0.7135 - val_acc: 0.5005\n",
      "Epoch 5/25\n",
      "64942/64942 [==============================] - 20s 302us/step - loss: 0.6556 - acc: 0.5019 - val_loss: 0.7217 - val_acc: 0.5003\n",
      "Epoch 6/25\n",
      "64942/64942 [==============================] - 19s 300us/step - loss: 0.6536 - acc: 0.5021 - val_loss: 0.7096 - val_acc: 0.5005\n",
      "Epoch 7/25\n",
      "64942/64942 [==============================] - 20s 302us/step - loss: 0.6513 - acc: 0.5020 - val_loss: 0.7149 - val_acc: 0.5004\n",
      "Epoch 8/25\n",
      "64942/64942 [==============================] - 20s 303us/step - loss: 0.6484 - acc: 0.5021 - val_loss: 0.7268 - val_acc: 0.5007\n",
      "Epoch 9/25\n",
      "64942/64942 [==============================] - 20s 303us/step - loss: 0.6463 - acc: 0.5021 - val_loss: 0.7278 - val_acc: 0.5006\n",
      "Epoch 10/25\n",
      "64942/64942 [==============================] - 20s 306us/step - loss: 0.6439 - acc: 0.5018 - val_loss: 0.7631 - val_acc: 0.5006\n",
      "Epoch 11/25\n",
      "64942/64942 [==============================] - 20s 301us/step - loss: 0.6416 - acc: 0.5023 - val_loss: 0.7735 - val_acc: 0.5005\n",
      "Epoch 12/25\n",
      "64942/64942 [==============================] - 20s 306us/step - loss: 0.6384 - acc: 0.5019 - val_loss: 0.8064 - val_acc: 0.5006\n",
      "Epoch 13/25\n",
      "64942/64942 [==============================] - 20s 302us/step - loss: 0.6356 - acc: 0.5020 - val_loss: 0.8176 - val_acc: 0.5007\n",
      "Epoch 14/25\n",
      "64942/64942 [==============================] - 20s 307us/step - loss: 0.6344 - acc: 0.5021 - val_loss: 0.7888 - val_acc: 0.5008\n",
      "Epoch 15/25\n",
      "64942/64942 [==============================] - 20s 304us/step - loss: 0.6311 - acc: 0.5022 - val_loss: 0.8567 - val_acc: 0.5009\n",
      "Epoch 16/25\n",
      "64942/64942 [==============================] - 20s 305us/step - loss: 0.6293 - acc: 0.5022 - val_loss: 0.9025 - val_acc: 0.5009\n",
      "Epoch 17/25\n",
      "64942/64942 [==============================] - 20s 304us/step - loss: 0.6277 - acc: 0.5022 - val_loss: 0.8850 - val_acc: 0.5012\n",
      "Epoch 18/25\n",
      "64942/64942 [==============================] - 20s 304us/step - loss: 0.6248 - acc: 0.5023 - val_loss: 0.9246 - val_acc: 0.5008\n",
      "Epoch 19/25\n",
      "64942/64942 [==============================] - 20s 305us/step - loss: 0.6229 - acc: 0.5027 - val_loss: 0.9043 - val_acc: 0.5006\n",
      "Epoch 20/25\n",
      "64942/64942 [==============================] - 20s 303us/step - loss: 0.6198 - acc: 0.5023 - val_loss: 1.0271 - val_acc: 0.5002\n",
      "Epoch 21/25\n",
      "64942/64942 [==============================] - 20s 305us/step - loss: 0.6178 - acc: 0.5025 - val_loss: 0.9014 - val_acc: 0.5002\n",
      "Epoch 22/25\n",
      "64942/64942 [==============================] - 20s 306us/step - loss: 0.6153 - acc: 0.5027 - val_loss: 1.0440 - val_acc: 0.5003\n",
      "Epoch 23/25\n",
      "64942/64942 [==============================] - 20s 302us/step - loss: 0.6135 - acc: 0.5026 - val_loss: 0.9956 - val_acc: 0.5003\n",
      "Epoch 24/25\n",
      "64942/64942 [==============================] - 20s 307us/step - loss: 0.6100 - acc: 0.5029 - val_loss: 0.9387 - val_acc: 0.5004\n",
      "Epoch 25/25\n",
      "64942/64942 [==============================] - 20s 304us/step - loss: 0.6079 - acc: 0.5029 - val_loss: 0.9884 - val_acc: 0.5005\n"
     ]
    },
    {
     "data": {
      "image/png": "[encoded data removed]",
      "text/plain": [
       "<Figure size 432x288 with 1 Axes>"
      ]
     },
     "metadata": {},
     "output_type": "display_data"
    }
   ],
   "source": [
    "# fit network\n",
    "enc_dec_ltsm_history = enc_dec_lstm_model.fit(training_input_lstm, training_output_enc_dec_lstm,\n",
    "                              epochs=epochs, batch_size=batch_size,\n",
    "                              validation_data=(validation_input_lstm, validation_output_enc_dec_lstm),\n",
    "                              verbose=1, shuffle=False, callbacks=[early_stop]) # shuffle _sequences_, not steps\n",
    "\n",
    "# plot history\n",
    "plt.plot(enc_dec_ltsm_history.history['acc'], label='train')\n",
    "plt.plot(enc_dec_ltsm_history.history['val_acc'], label='validate')\n",
    "plt.legend()\n",
    "plt.show()"
   ]
  },
  {
   "cell_type": "markdown",
   "metadata": {},
   "source": [
    "## Network 3 - CNN-encoder LSTM-decoder network"
   ]
  },
  {
   "cell_type": "code",
   "execution_count": 21,
   "metadata": {},
   "outputs": [
    {
     "name": "stdout",
     "output_type": "stream",
     "text": [
      "(64942, 1, 1) (64942, 1)\n",
      "(16874, 1, 1) (16874, 1)\n"
     ]
    }
   ],
   "source": [
    "# seq2seq: need to reshape training/testing output to 3d samples * timesteps * features form!\n",
    "training_output_cnn_lstm = training_output_lstm.reshape(\n",
    "    (training_output_lstm.shape[0], 1, training_output_lstm.shape[1]))\n",
    "validation_output_cnn_lstm = validation_output_lstm.reshape(\n",
    "    (validation_output_lstm.shape[0], 1, validation_output_lstm.shape[1]))\n",
    "\n",
    "print(training_output_cnn_lstm.shape, training_output_lstm.shape)\n",
    "print(validation_output_cnn_lstm.shape, validation_output_lstm.shape)"
   ]
  },
  {
   "cell_type": "code",
   "execution_count": 27,
   "metadata": {},
   "outputs": [],
   "source": [
    "def build_cnn_lstm_model(training_inputs=training_input_lstm, # these are the same 3D format as lstm\n",
    "                         training_outputs=training_output_cnn_lstm,\n",
    "                         filters=64,\n",
    "                         LSTM_nodes=200,\n",
    "                         dense_nodes=100,\n",
    "                         pool_size=2,\n",
    "                         kernel_size=3,\n",
    "                         activation='relu',\n",
    "                         regress=True):\n",
    "\n",
    "    n_timesteps_in, n_input_features = training_inputs.shape[1], training_inputs.shape[2]\n",
    "    n_timesteps_out, n_output_features = training_outputs.shape[1], training_outputs.shape[2]\n",
    "    # define model\n",
    "    model = Sequential()\n",
    "    # encoder ------------------------------------------\n",
    "    # read in SEQ_LEN × 8 (input vars) 1D sequences. convolve w/ 64 size-3 (default) filters\n",
    "    # to get new feature map of time series\n",
    "     The Flatten layer will take the single 5×5 map and transform it into a 25-element vector ready for some other layer to deal with, such as a Dense for outputting a prediction.\n",
    "    model.add(Conv1D(filters=filters,\n",
    "                     kernel_size=kernel_size,\n",
    "                     activation=activation,\n",
    "                     input_shape=(n_timesteps_in, n_input_features)))\n",
    "    model.add(Conv1D(filters=filters,\n",
    "                     kernel_size=kernel_size,\n",
    "                     activation=activation))\n",
    "    # MaxPooling1D pools the interpretation into length-2 chunks, reducing output size\n",
    "    model.add(MaxPooling1D(pool_size=pool_size))\n",
    "    # Flatten ensures output reduced to 1D to feed into next layer \n",
    "    model.add(Flatten())\n",
    "    # repeat internal representation of features to feed to LSTM decoder\n",
    "    model.add(RepeatVector(n_timesteps_out))\n",
    "    \n",
    "    # decoder --------------------------------------------\n",
    "    # SEE LSTM encoder-decoder\n",
    "    model.add(LSTM(LSTM_nodes, activation=activation, return_sequences=True))\n",
    "    \n",
    "    # dense ---------------------------------------------\n",
    "    model.add(TimeDistributed(Dense(dense_nodes, activation=activation)))\n",
    "    \n",
    "    # output ---------------------------------------------\n",
    "    if regress:\n",
    "        model.add(TimeDistributed(Dense(2, activation='softmax'))) \n",
    "    return model"
   ]
  },
  {
   "cell_type": "code",
   "execution_count": 28,
   "metadata": {},
   "outputs": [],
   "source": [
    "# design network\n",
    "# network hyperparameters\n",
    "filters = 64\n",
    "dense_nodes = 32\n",
    "LSTM_nodes = 200\n",
    "encoder_LSTM_layers = 2\n",
    "decoder_LSTM_layers = 2\n",
    "dense_layers = 1\n",
    "pool_size = 2\n",
    "kernel_size = 3\n",
    "activation = 'relu'\n",
    "dropout = 0.3\n",
    "learning_rate=0.0001\n",
    "# training parameters\n",
    "epochs = 25\n",
    "batch_size = 50\n",
    "\n",
    "# build model\n",
    "cnn_lstm_model = build_cnn_lstm_model(training_inputs=training_input_lstm, # these are the same 3D format as lstm\n",
    "                                      training_outputs=training_output_cnn_lstm,\n",
    "                                      filters=filters,\n",
    "                                      LSTM_nodes=LSTM_nodes,\n",
    "                                      dense_nodes=dense_nodes,\n",
    "                                      pool_size=pool_size,\n",
    "                                      kernel_size=kernel_size,\n",
    "                                      activation=activation)\n",
    "\n",
    "# define callback to force model to stop training if validation loss doesn't improve\n",
    "early_stop = keras.callbacks.EarlyStopping(monitor='val_acc', patience=10)\n",
    "opt = keras.optimizers.Adam(lr=learning_rate, decay=1e-6)\n",
    "\n",
    "# Compile model\n",
    "cnn_lstm_model.compile(\n",
    "    loss='sparse_categorical_crossentropy',\n",
    "    optimizer=opt,\n",
    "    metrics=['accuracy']\n",
    ")"
   ]
  },
  {
   "cell_type": "code",
   "execution_count": 30,
   "metadata": {},
   "outputs": [
    {
     "name": "stdout",
     "output_type": "stream",
     "text": [
      "Train on 64942 samples, validate on 16874 samples\n",
      "Epoch 1/25\n",
      " 6400/64942 [=>............................] - ETA: 10s - loss: 0.0856 - acc: 0.5106"
     ]
    },
    {
     "ename": "KeyboardInterrupt",
     "evalue": "",
     "output_type": "error",
     "traceback": [
      "\u001b[0;31m---------------------------------------------------------------------------\u001b[0m",
      "\u001b[0;31mKeyboardInterrupt\u001b[0m                         Traceback (most recent call last)",
      "\u001b[0;32m<ipython-input-30-c5fcebb5d444>\u001b[0m in \u001b[0;36m<module>\u001b[0;34m()\u001b[0m\n\u001b[1;32m      1\u001b[0m cnn_lstm_history = cnn_lstm_model.fit(training_input_lstm, training_output_cnn_lstm, epochs=epochs, batch_size=batch_size,\n\u001b[0;32m----> 2\u001b[0;31m                                       validation_data=(validation_input_lstm, validation_output_cnn_lstm))\n\u001b[0m\u001b[1;32m      3\u001b[0m \u001b[0;34m\u001b[0m\u001b[0m\n\u001b[1;32m      4\u001b[0m \u001b[0;31m# plot history\u001b[0m\u001b[0;34m\u001b[0m\u001b[0;34m\u001b[0m\u001b[0;34m\u001b[0m\u001b[0m\n\u001b[1;32m      5\u001b[0m \u001b[0mplt\u001b[0m\u001b[0;34m.\u001b[0m\u001b[0mplot\u001b[0m\u001b[0;34m(\u001b[0m\u001b[0mcnn_lstm_history\u001b[0m\u001b[0;34m.\u001b[0m\u001b[0mhistory\u001b[0m\u001b[0;34m[\u001b[0m\u001b[0;34m'acc'\u001b[0m\u001b[0;34m]\u001b[0m\u001b[0;34m,\u001b[0m \u001b[0mlabel\u001b[0m\u001b[0;34m=\u001b[0m\u001b[0;34m'train'\u001b[0m\u001b[0;34m)\u001b[0m\u001b[0;34m\u001b[0m\u001b[0;34m\u001b[0m\u001b[0m\n",
      "\u001b[0;32m~/anaconda3/lib/python3.6/site-packages/keras/engine/training.py\u001b[0m in \u001b[0;36mfit\u001b[0;34m(self, x, y, batch_size, epochs, verbose, callbacks, validation_split, validation_data, shuffle, class_weight, sample_weight, initial_epoch, steps_per_epoch, validation_steps, **kwargs)\u001b[0m\n\u001b[1;32m   1037\u001b[0m                                         \u001b[0minitial_epoch\u001b[0m\u001b[0;34m=\u001b[0m\u001b[0minitial_epoch\u001b[0m\u001b[0;34m,\u001b[0m\u001b[0;34m\u001b[0m\u001b[0;34m\u001b[0m\u001b[0m\n\u001b[1;32m   1038\u001b[0m                                         \u001b[0msteps_per_epoch\u001b[0m\u001b[0;34m=\u001b[0m\u001b[0msteps_per_epoch\u001b[0m\u001b[0;34m,\u001b[0m\u001b[0;34m\u001b[0m\u001b[0;34m\u001b[0m\u001b[0m\n\u001b[0;32m-> 1039\u001b[0;31m                                         validation_steps=validation_steps)\n\u001b[0m\u001b[1;32m   1040\u001b[0m \u001b[0;34m\u001b[0m\u001b[0m\n\u001b[1;32m   1041\u001b[0m     def evaluate(self, x=None, y=None,\n",
      "\u001b[0;32m~/anaconda3/lib/python3.6/site-packages/keras/engine/training_arrays.py\u001b[0m in \u001b[0;36mfit_loop\u001b[0;34m(model, f, ins, out_labels, batch_size, epochs, verbose, callbacks, val_f, val_ins, shuffle, callback_metrics, initial_epoch, steps_per_epoch, validation_steps)\u001b[0m\n\u001b[1;32m    197\u001b[0m                     \u001b[0mins_batch\u001b[0m\u001b[0;34m[\u001b[0m\u001b[0mi\u001b[0m\u001b[0;34m]\u001b[0m \u001b[0;34m=\u001b[0m \u001b[0mins_batch\u001b[0m\u001b[0;34m[\u001b[0m\u001b[0mi\u001b[0m\u001b[0;34m]\u001b[0m\u001b[0;34m.\u001b[0m\u001b[0mtoarray\u001b[0m\u001b[0;34m(\u001b[0m\u001b[0;34m)\u001b[0m\u001b[0;34m\u001b[0m\u001b[0;34m\u001b[0m\u001b[0m\n\u001b[1;32m    198\u001b[0m \u001b[0;34m\u001b[0m\u001b[0m\n\u001b[0;32m--> 199\u001b[0;31m                 \u001b[0mouts\u001b[0m \u001b[0;34m=\u001b[0m \u001b[0mf\u001b[0m\u001b[0;34m(\u001b[0m\u001b[0mins_batch\u001b[0m\u001b[0;34m)\u001b[0m\u001b[0;34m\u001b[0m\u001b[0;34m\u001b[0m\u001b[0m\n\u001b[0m\u001b[1;32m    200\u001b[0m                 \u001b[0mouts\u001b[0m \u001b[0;34m=\u001b[0m \u001b[0mto_list\u001b[0m\u001b[0;34m(\u001b[0m\u001b[0mouts\u001b[0m\u001b[0;34m)\u001b[0m\u001b[0;34m\u001b[0m\u001b[0;34m\u001b[0m\u001b[0m\n\u001b[1;32m    201\u001b[0m                 \u001b[0;32mfor\u001b[0m \u001b[0ml\u001b[0m\u001b[0;34m,\u001b[0m \u001b[0mo\u001b[0m \u001b[0;32min\u001b[0m \u001b[0mzip\u001b[0m\u001b[0;34m(\u001b[0m\u001b[0mout_labels\u001b[0m\u001b[0;34m,\u001b[0m \u001b[0mouts\u001b[0m\u001b[0;34m)\u001b[0m\u001b[0;34m:\u001b[0m\u001b[0;34m\u001b[0m\u001b[0;34m\u001b[0m\u001b[0m\n",
      "\u001b[0;32m~/anaconda3/lib/python3.6/site-packages/keras/backend/tensorflow_backend.py\u001b[0m in \u001b[0;36m__call__\u001b[0;34m(self, inputs)\u001b[0m\n\u001b[1;32m   2713\u001b[0m                 \u001b[0;32mreturn\u001b[0m \u001b[0mself\u001b[0m\u001b[0;34m.\u001b[0m\u001b[0m_legacy_call\u001b[0m\u001b[0;34m(\u001b[0m\u001b[0minputs\u001b[0m\u001b[0;34m)\u001b[0m\u001b[0;34m\u001b[0m\u001b[0;34m\u001b[0m\u001b[0m\n\u001b[1;32m   2714\u001b[0m \u001b[0;34m\u001b[0m\u001b[0m\n\u001b[0;32m-> 2715\u001b[0;31m             \u001b[0;32mreturn\u001b[0m \u001b[0mself\u001b[0m\u001b[0;34m.\u001b[0m\u001b[0m_call\u001b[0m\u001b[0;34m(\u001b[0m\u001b[0minputs\u001b[0m\u001b[0;34m)\u001b[0m\u001b[0;34m\u001b[0m\u001b[0;34m\u001b[0m\u001b[0m\n\u001b[0m\u001b[1;32m   2716\u001b[0m         \u001b[0;32melse\u001b[0m\u001b[0;34m:\u001b[0m\u001b[0;34m\u001b[0m\u001b[0;34m\u001b[0m\u001b[0m\n\u001b[1;32m   2717\u001b[0m             \u001b[0;32mif\u001b[0m \u001b[0mpy_any\u001b[0m\u001b[0;34m(\u001b[0m\u001b[0mis_tensor\u001b[0m\u001b[0;34m(\u001b[0m\u001b[0mx\u001b[0m\u001b[0;34m)\u001b[0m \u001b[0;32mfor\u001b[0m \u001b[0mx\u001b[0m \u001b[0;32min\u001b[0m \u001b[0minputs\u001b[0m\u001b[0;34m)\u001b[0m\u001b[0;34m:\u001b[0m\u001b[0;34m\u001b[0m\u001b[0;34m\u001b[0m\u001b[0m\n",
      "\u001b[0;32m~/anaconda3/lib/python3.6/site-packages/keras/backend/tensorflow_backend.py\u001b[0m in \u001b[0;36m_call\u001b[0;34m(self, inputs)\u001b[0m\n\u001b[1;32m   2673\u001b[0m             \u001b[0mfetched\u001b[0m \u001b[0;34m=\u001b[0m \u001b[0mself\u001b[0m\u001b[0;34m.\u001b[0m\u001b[0m_callable_fn\u001b[0m\u001b[0;34m(\u001b[0m\u001b[0;34m*\u001b[0m\u001b[0marray_vals\u001b[0m\u001b[0;34m,\u001b[0m \u001b[0mrun_metadata\u001b[0m\u001b[0;34m=\u001b[0m\u001b[0mself\u001b[0m\u001b[0;34m.\u001b[0m\u001b[0mrun_metadata\u001b[0m\u001b[0;34m)\u001b[0m\u001b[0;34m\u001b[0m\u001b[0;34m\u001b[0m\u001b[0m\n\u001b[1;32m   2674\u001b[0m         \u001b[0;32melse\u001b[0m\u001b[0;34m:\u001b[0m\u001b[0;34m\u001b[0m\u001b[0;34m\u001b[0m\u001b[0m\n\u001b[0;32m-> 2675\u001b[0;31m             \u001b[0mfetched\u001b[0m \u001b[0;34m=\u001b[0m \u001b[0mself\u001b[0m\u001b[0;34m.\u001b[0m\u001b[0m_callable_fn\u001b[0m\u001b[0;34m(\u001b[0m\u001b[0;34m*\u001b[0m\u001b[0marray_vals\u001b[0m\u001b[0;34m)\u001b[0m\u001b[0;34m\u001b[0m\u001b[0;34m\u001b[0m\u001b[0m\n\u001b[0m\u001b[1;32m   2676\u001b[0m         \u001b[0;32mreturn\u001b[0m \u001b[0mfetched\u001b[0m\u001b[0;34m[\u001b[0m\u001b[0;34m:\u001b[0m\u001b[0mlen\u001b[0m\u001b[0;34m(\u001b[0m\u001b[0mself\u001b[0m\u001b[0;34m.\u001b[0m\u001b[0moutputs\u001b[0m\u001b[0;34m)\u001b[0m\u001b[0;34m]\u001b[0m\u001b[0;34m\u001b[0m\u001b[0;34m\u001b[0m\u001b[0m\n\u001b[1;32m   2677\u001b[0m \u001b[0;34m\u001b[0m\u001b[0m\n",
      "\u001b[0;32m~/anaconda3/lib/python3.6/site-packages/tensorflow/python/client/session.py\u001b[0m in \u001b[0;36m__call__\u001b[0;34m(self, *args, **kwargs)\u001b[0m\n\u001b[1;32m   1437\u001b[0m           ret = tf_session.TF_SessionRunCallable(\n\u001b[1;32m   1438\u001b[0m               \u001b[0mself\u001b[0m\u001b[0;34m.\u001b[0m\u001b[0m_session\u001b[0m\u001b[0;34m.\u001b[0m\u001b[0m_session\u001b[0m\u001b[0;34m,\u001b[0m \u001b[0mself\u001b[0m\u001b[0;34m.\u001b[0m\u001b[0m_handle\u001b[0m\u001b[0;34m,\u001b[0m \u001b[0margs\u001b[0m\u001b[0;34m,\u001b[0m \u001b[0mstatus\u001b[0m\u001b[0;34m,\u001b[0m\u001b[0;34m\u001b[0m\u001b[0;34m\u001b[0m\u001b[0m\n\u001b[0;32m-> 1439\u001b[0;31m               run_metadata_ptr)\n\u001b[0m\u001b[1;32m   1440\u001b[0m         \u001b[0;32mif\u001b[0m \u001b[0mrun_metadata\u001b[0m\u001b[0;34m:\u001b[0m\u001b[0;34m\u001b[0m\u001b[0;34m\u001b[0m\u001b[0m\n\u001b[1;32m   1441\u001b[0m           \u001b[0mproto_data\u001b[0m \u001b[0;34m=\u001b[0m \u001b[0mtf_session\u001b[0m\u001b[0;34m.\u001b[0m\u001b[0mTF_GetBuffer\u001b[0m\u001b[0;34m(\u001b[0m\u001b[0mrun_metadata_ptr\u001b[0m\u001b[0;34m)\u001b[0m\u001b[0;34m\u001b[0m\u001b[0;34m\u001b[0m\u001b[0m\n",
      "\u001b[0;31mKeyboardInterrupt\u001b[0m: "
     ]
    }
   ],
   "source": [
    "cnn_lstm_history = cnn_lstm_model.fit(training_input_lstm, training_output_cnn_lstm, epochs=epochs, batch_size=batch_size,\n",
    "                                      validation_data=(validation_input_lstm, validation_output_cnn_lstm))\n",
    "\n",
    "# plot history\n",
    "plt.plot(cnn_lstm_history.history['acc'], label='train')\n",
    "plt.plot(cnn_lstm_history.history['val_acc'], label='validate')\n",
    "plt.legend()\n",
    "plt.show()"
   ]
  },
  {
   "cell_type": "code",
   "execution_count": null,
   "metadata": {},
   "outputs": [],
   "source": []
  }
 ],
 "metadata": {
  "kernelspec": {
   "display_name": "Python 3",
   "language": "python",
   "name": "python3"
  },
  "language_info": {
   "codemirror_mode": {
    "name": "ipython",
    "version": 3
   },
   "file_extension": ".py",
   "mimetype": "text/x-python",
   "name": "python",
   "nbconvert_exporter": "python",
   "pygments_lexer": "ipython3",
   "version": "3.6.8"
  }
 },
 "nbformat": 4,
 "nbformat_minor": 2
}
